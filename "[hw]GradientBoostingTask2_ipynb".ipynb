{
  "nbformat": 4,
  "nbformat_minor": 0,
  "metadata": {
    "kernelspec": {
      "display_name": "Python 3",
      "language": "python",
      "name": "python3"
    },
    "language_info": {
      "codemirror_mode": {
        "name": "ipython",
        "version": 3
      },
      "file_extension": ".py",
      "mimetype": "text/x-python",
      "name": "python",
      "nbconvert_exporter": "python",
      "pygments_lexer": "ipython3",
      "version": "3.6.4"
    },
    "colab": {
      "name": "\"[hw]GradientBoostingTask2.ipynb\"",
      "provenance": [],
      "collapsed_sections": [],
      "include_colab_link": true
    },
    "accelerator": "GPU"
  },
  "cells": [
    {
      "cell_type": "markdown",
      "metadata": {
        "id": "view-in-github",
        "colab_type": "text"
      },
      "source": [
        "<a href=\"https://colab.research.google.com/github/NosenkoArtem/MADMO-advanced-/blob/master/%22%5Bhw%5DGradientBoostingTask2_ipynb%22.ipynb\" target=\"_parent\"><img src=\"https://colab.research.google.com/assets/colab-badge.svg\" alt=\"Open In Colab\"/></a>"
      ]
    },
    {
      "cell_type": "markdown",
      "metadata": {
        "id": "yB5Lw7Y1C7vA",
        "colab_type": "text"
      },
      "source": [
        "##  Speed and Performance of GB libraries"
      ]
    },
    {
      "cell_type": "markdown",
      "metadata": {
        "id": "7nQEcEhCC7vB",
        "colab_type": "text"
      },
      "source": [
        "Please make sure to install the following powerful packages for boosting:\n",
        "* [xgboost](https://anaconda.org/conda-forge/xgboost)\n",
        "* [lightgbm](https://anaconda.org/conda-forge/lightgbm)\n",
        "* [catboost](https://tech.yandex.com/catboost/doc/dg/concepts/python-installation-docpage/)"
      ]
    },
    {
      "cell_type": "markdown",
      "metadata": {
        "id": "1FLYUabuC7vD",
        "colab_type": "text"
      },
      "source": [
        "In this task you are asked to compare the **training time** of the **GBDT**, the\n",
        "Gradient Boosted Decision Trees, as implemeted by different popular ML libraries.\n",
        "The dataset you shall use is the [UCI Breast Cancer dataset](https://archive.ics.uci.edu/ml/datasets/Breast+Cancer+Wisconsin+%28Diagnostic%29).\n",
        "You should study the parameters of each library and establish the **correspondence**\n",
        "between them.\n",
        "\n",
        "The plan is as follows:\n",
        "1. Take the **default** parameter settings, measure the training time, and plot\n",
        "the ROC curves;\n",
        "2. Use grid search with the $3$-fold cross valiadation to choose the best model.\n",
        "Then measure the training time as a function of (separately) **tree depth** and **the\n",
        "number of estimators in the ensemble**, finally **plot the ROC** curves of the best\n",
        "models.\n",
        "\n",
        "You need to make sure that you are comparing **comparable** classifiers, i.e. with\n",
        "**the same tree and ensemble hyperparameters**.\n",
        "\n",
        "<span style=\"color:green\">**NOTE**</span> You need figure out how to make parameter settings\n",
        "compatible. One possible way to understand the correspondence is to study the docs. You may\n",
        "choose the default parameters from any library.\n",
        "\n",
        "Please plot **three** ROC curves, one per library, on the same **one plot**\n",
        "with a *comprehensible [legend](https://matplotlib.org/users/legend_guide.html)*.\n",
        "\n",
        "A useful command for timing is IPython's [**timeit** cell magic](http://ipython.readthedocs.io/en/stable/interactive/magics.html#magic-timeit). "
      ]
    },
    {
      "cell_type": "code",
      "metadata": {
        "id": "L1lMv8zNC7vD",
        "colab_type": "code",
        "colab": {}
      },
      "source": [
        "import torch\n",
        "import numpy as np\n",
        "from matplotlib import pyplot as plt\n",
        "from sklearn.datasets import load_breast_cancer, make_classification\n",
        "from sklearn.model_selection import train_test_split\n",
        "from sklearn.metrics import roc_auc_score, roc_curve\n",
        "from sklearn.model_selection import GridSearchCV\n",
        "\n",
        "data = load_breast_cancer()\n",
        "X, y = data.data, data.target\n",
        "\n",
        "X_train, X_test, y_train, y_test = train_test_split(X, y, test_size=0.4,\n",
        "                                                    random_state=42)"
      ],
      "execution_count": null,
      "outputs": []
    },
    {
      "cell_type": "code",
      "metadata": {
        "id": "plB8Zz8SEPft",
        "colab_type": "code",
        "colab": {
          "base_uri": "https://localhost:8080/",
          "height": 266
        },
        "outputId": "97262a86-76bb-41b9-de6a-e86efa67e413"
      },
      "source": [
        "! pip install catboost"
      ],
      "execution_count": null,
      "outputs": [
        {
          "output_type": "stream",
          "text": [
            "Requirement already satisfied: catboost in /usr/local/lib/python3.6/dist-packages (0.23.2)\n",
            "Requirement already satisfied: plotly in /usr/local/lib/python3.6/dist-packages (from catboost) (4.4.1)\n",
            "Requirement already satisfied: pandas>=0.24.0 in /usr/local/lib/python3.6/dist-packages (from catboost) (1.0.5)\n",
            "Requirement already satisfied: graphviz in /usr/local/lib/python3.6/dist-packages (from catboost) (0.10.1)\n",
            "Requirement already satisfied: matplotlib in /usr/local/lib/python3.6/dist-packages (from catboost) (3.2.2)\n",
            "Requirement already satisfied: six in /usr/local/lib/python3.6/dist-packages (from catboost) (1.12.0)\n",
            "Requirement already satisfied: numpy>=1.16.0 in /usr/local/lib/python3.6/dist-packages (from catboost) (1.18.5)\n",
            "Requirement already satisfied: scipy in /usr/local/lib/python3.6/dist-packages (from catboost) (1.4.1)\n",
            "Requirement already satisfied: retrying>=1.3.3 in /usr/local/lib/python3.6/dist-packages (from plotly->catboost) (1.3.3)\n",
            "Requirement already satisfied: pytz>=2017.2 in /usr/local/lib/python3.6/dist-packages (from pandas>=0.24.0->catboost) (2018.9)\n",
            "Requirement already satisfied: python-dateutil>=2.6.1 in /usr/local/lib/python3.6/dist-packages (from pandas>=0.24.0->catboost) (2.8.1)\n",
            "Requirement already satisfied: kiwisolver>=1.0.1 in /usr/local/lib/python3.6/dist-packages (from matplotlib->catboost) (1.2.0)\n",
            "Requirement already satisfied: cycler>=0.10 in /usr/local/lib/python3.6/dist-packages (from matplotlib->catboost) (0.10.0)\n",
            "Requirement already satisfied: pyparsing!=2.0.4,!=2.1.2,!=2.1.6,>=2.0.1 in /usr/local/lib/python3.6/dist-packages (from matplotlib->catboost) (2.4.7)\n"
          ],
          "name": "stdout"
        }
      ]
    },
    {
      "cell_type": "code",
      "metadata": {
        "id": "-b_bczxhDvns",
        "colab_type": "code",
        "colab": {}
      },
      "source": [
        "from lightgbm import LGBMClassifier\n",
        "from catboost import CatBoostClassifier\n",
        "from xgboost import XGBClassifier"
      ],
      "execution_count": null,
      "outputs": []
    },
    {
      "cell_type": "code",
      "metadata": {
        "id": "ZHqyak6DMC1y",
        "colab_type": "code",
        "colab": {
          "base_uri": "https://localhost:8080/",
          "height": 35
        },
        "outputId": "8bf42e8b-212c-438a-c7fc-2de347ac9ead"
      },
      "source": [
        "# LGBM с гиперапарметрами по умолчанию\n",
        "%%timeit\n",
        "lgbm_clf = LGBMClassifier(n_estimators=100)\n",
        "lgbm_clf.fit(X_train, y_train)\n",
        "y_pred_proba_lgbm = lgbm_clf.predict_proba(X_test)[:, 1]"
      ],
      "execution_count": null,
      "outputs": [
        {
          "output_type": "stream",
          "text": [
            "10 loops, best of 3: 85.1 ms per loop\n"
          ],
          "name": "stdout"
        }
      ]
    },
    {
      "cell_type": "code",
      "metadata": {
        "id": "1PbJlLN3NVzh",
        "colab_type": "code",
        "colab": {
          "base_uri": "https://localhost:8080/",
          "height": 35
        },
        "outputId": "07f8c8c8-f621-459a-85d6-cf624b028006"
      },
      "source": [
        "lgbm_clf = LGBMClassifier(n_estimators=100)\n",
        "lgbm_clf.fit(X_train, y_train)\n",
        "y_pred_proba_lgbm = lgbm_clf.predict_proba(X_test)[:, 1]\n",
        "fpr_lgbm, tpr_lgbm, thresholds_lgbm = roc_curve(y_test, y_pred_proba_lgbm, pos_label=1)\n",
        "print('ROC-AUC_score : {:.2f}'.format(roc_auc_score(y_test, y_pred_proba_lgbm)))"
      ],
      "execution_count": null,
      "outputs": [
        {
          "output_type": "stream",
          "text": [
            "ROC-AUC_score : 0.99\n"
          ],
          "name": "stdout"
        }
      ]
    },
    {
      "cell_type": "code",
      "metadata": {
        "id": "TSi4ZvmDNgla",
        "colab_type": "code",
        "colab": {
          "base_uri": "https://localhost:8080/",
          "height": 35
        },
        "outputId": "8f3172a4-b471-449a-f602-9ce8aa0d0d45"
      },
      "source": [
        "# XGboost с гиперапарметрами по умолчанию\n",
        "%%timeit\n",
        "xgboost_clf = XGBClassifier(n_estimators=100)\n",
        "xgboost_clf.fit(X_train, y_train)\n",
        "y_pred_proba_xgboost = xgboost_clf.predict_proba(X_test)[:, 1]"
      ],
      "execution_count": null,
      "outputs": [
        {
          "output_type": "stream",
          "text": [
            "1 loop, best of 3: 72.5 ms per loop\n"
          ],
          "name": "stdout"
        }
      ]
    },
    {
      "cell_type": "code",
      "metadata": {
        "id": "9ubE93miNvr6",
        "colab_type": "code",
        "colab": {
          "base_uri": "https://localhost:8080/",
          "height": 35
        },
        "outputId": "9da6b4a8-c681-4ff5-d2d9-772ebcbfdf9b"
      },
      "source": [
        "xgboost_clf = XGBClassifier(n_estimators=100)\n",
        "xgboost_clf.fit(X_train, y_train)\n",
        "y_pred_proba_xgboost = xgboost_clf.predict_proba(X_test)[:, 1]\n",
        "fpr_xgboost, tpr_xgboost, thresholds_xgboost = roc_curve(y_test, y_pred_proba_lgbm, pos_label=1)\n",
        "print('ROC-AUC_score : {:.2f}'.format(roc_auc_score(y_test, y_pred_proba_xgboost)))"
      ],
      "execution_count": null,
      "outputs": [
        {
          "output_type": "stream",
          "text": [
            "ROC-AUC_score : 1.00\n"
          ],
          "name": "stdout"
        }
      ]
    },
    {
      "cell_type": "code",
      "metadata": {
        "id": "LgD9dAuCOhTs",
        "colab_type": "code",
        "colab": {
          "base_uri": "https://localhost:8080/",
          "height": 35
        },
        "outputId": "a06016d5-d9a1-4593-ce0b-095dac918653"
      },
      "source": [
        "# CatBoost с гиперапарметрами по умолчанию\n",
        "%%timeit\n",
        "catboost_clf = CatBoostClassifier(iterations=100,\n",
        "                                  verbose=False)\n",
        "catboost_clf.fit(X_train, y_train)\n",
        "y_pred_proba_catboost = catboost_clf.predict_proba(X_test)[:, 1]"
      ],
      "execution_count": null,
      "outputs": [
        {
          "output_type": "stream",
          "text": [
            "1 loop, best of 3: 830 ms per loop\n"
          ],
          "name": "stdout"
        }
      ]
    },
    {
      "cell_type": "code",
      "metadata": {
        "id": "nA2Vs4MvO47K",
        "colab_type": "code",
        "colab": {
          "base_uri": "https://localhost:8080/",
          "height": 35
        },
        "outputId": "3a97fcc2-6a44-417a-8400-604becd6c608"
      },
      "source": [
        "catboost_clf = CatBoostClassifier(iterations=100, verbose=False)\n",
        "catboost_clf.fit(X_train, y_train)\n",
        "y_pred_proba_catboost = catboost_clf.predict_proba(X_test)[:, 1]\n",
        "fpr_catboost, tpr_catboost, thresholds_catboost = roc_curve(y_test, y_pred_proba_lgbm, pos_label=1)\n",
        "print('ROC-AUC_score : {:.2f}'.format(roc_auc_score(y_test, y_pred_proba_catboost)))"
      ],
      "execution_count": null,
      "outputs": [
        {
          "output_type": "stream",
          "text": [
            "ROC-AUC_score : 1.00\n"
          ],
          "name": "stdout"
        }
      ]
    },
    {
      "cell_type": "code",
      "metadata": {
        "id": "Nn-j6YU-SBAA",
        "colab_type": "code",
        "colab": {
          "base_uri": "https://localhost:8080/",
          "height": 35
        },
        "outputId": "4b5b9f16-e0c3-45e1-8388-64a38c727e8f"
      },
      "source": [
        "# CatBoost с гиперапарметрами по умолчанию, но на GPU\n",
        "%%timeit\n",
        "device = torch.device('cuda:0' if torch.cuda.is_available() else 'cpu')\n",
        "if device.type == 'cuda':\n",
        "  catboost_clf = CatBoostClassifier(iterations=100,\n",
        "                                     verbose=False, \n",
        "                                     task_type='GPU')\n",
        "  \n",
        "  catboost_clf.fit(X_train, y_train)\n",
        "  y_pred_proba_catboost = catboost_clf.predict_proba(X_test)[:, 1]"
      ],
      "execution_count": null,
      "outputs": [
        {
          "output_type": "stream",
          "text": [
            "1 loop, best of 3: 1.9 s per loop\n"
          ],
          "name": "stdout"
        }
      ]
    },
    {
      "cell_type": "code",
      "metadata": {
        "id": "CO2EoRjtxAo8",
        "colab_type": "code",
        "colab": {
          "base_uri": "https://localhost:8080/",
          "height": 295
        },
        "outputId": "cc6bcdf5-1128-4ecd-9c4c-41af6df91781"
      },
      "source": [
        "# построение ROC-кривой\n",
        "plt.figure(figsize=(6, 4))\n",
        "plt.plot([0, 1], [0, 1], 'k--')\n",
        "plt.plot(fpr_lgbm, tpr_lgbm, label='LGBM', linewidth=4, alpha=0.4)\n",
        "plt.plot(fpr_xgboost, tpr_xgboost, label='XGBOOST', linewidth=1)\n",
        "plt.plot(fpr_catboost, tpr_catboost, label='CatBoost', linewidth=8, alpha=0.1)\n",
        "plt.xlabel('False positive rate')\n",
        "plt.ylabel('True positive rate')\n",
        "plt.title('ROC curve')\n",
        "plt.legend(loc='best')\n",
        "plt.grid()\n",
        "plt.show()"
      ],
      "execution_count": null,
      "outputs": [
        {
          "output_type": "display_data",
          "data": {
            "image/png": "[encoded data removed]",
            "text/plain": [
              "<Figure size 432x288 with 1 Axes>"
            ]
          },
          "metadata": {
            "tags": [],
            "needs_background": "light"
          }
        }
      ]
    },
    {
      "cell_type": "markdown",
      "metadata": {
        "id": "c-GZ749HedqX",
        "colab_type": "text"
      },
      "source": [
        "По-видимому XGBoost быстрее своих \"собратьев\". При этом дает такое же качество, потому что данные весьма \"простые\". Тренировка CatBoost на GPU не дает преимущества."
      ]
    },
    {
      "cell_type": "code",
      "metadata": {
        "id": "gELkJSZhc3Cp",
        "colab_type": "code",
        "colab": {}
      },
      "source": [
        "# игрушечный пример c другими данными\n",
        "X, y = make_classification(n_samples=5000, n_features=120,\n",
        "                          n_informative=35, flip_y=0.35, random_state=42)\n",
        "\n",
        "X_train, X_test, y_train, y_test = train_test_split(X, y, test_size=0.4,\n",
        "                                                    random_state=42)"
      ],
      "execution_count": null,
      "outputs": []
    },
    {
      "cell_type": "code",
      "metadata": {
        "id": "FRk-kvFKeiFZ",
        "colab_type": "code",
        "colab": {
          "base_uri": "https://localhost:8080/",
          "height": 35
        },
        "outputId": "dff712cb-c61b-4096-97aa-0c1113a68e08"
      },
      "source": [
        "# LGBM с гиперапарметрами по умолчанию\n",
        "%%timeit\n",
        "lgbm_clf = LGBMClassifier(n_estimators=100)\n",
        "lgbm_clf.fit(X_train, y_train)\n",
        "y_pred_proba_lgbm = lgbm_clf.predict_proba(X_test)[:, 1]"
      ],
      "execution_count": null,
      "outputs": [
        {
          "output_type": "stream",
          "text": [
            "1 loop, best of 3: 2.86 s per loop\n"
          ],
          "name": "stdout"
        }
      ]
    },
    {
      "cell_type": "code",
      "metadata": {
        "id": "NekDrv8EeiTQ",
        "colab_type": "code",
        "colab": {
          "base_uri": "https://localhost:8080/",
          "height": 35
        },
        "outputId": "c1eba08f-a7d1-4c56-9c90-db36f1a2bdaf"
      },
      "source": [
        "lgbm_clf = LGBMClassifier(n_estimators=100)\n",
        "lgbm_clf.fit(X_train, y_train)\n",
        "y_pred_proba_lgbm = lgbm_clf.predict_proba(X_test)[:, 1]\n",
        "fpr_lgbm, tpr_lgbm, thresholds_lgbm = roc_curve(y_test, y_pred_proba_lgbm, pos_label=1)\n",
        "print('ROC-AUC_score : {:.2f}'.format(roc_auc_score(y_test, y_pred_proba_lgbm)))"
      ],
      "execution_count": null,
      "outputs": [
        {
          "output_type": "stream",
          "text": [
            "ROC-AUC_score : 0.78\n"
          ],
          "name": "stdout"
        }
      ]
    },
    {
      "cell_type": "code",
      "metadata": {
        "id": "l1g7c74neiV5",
        "colab_type": "code",
        "colab": {
          "base_uri": "https://localhost:8080/",
          "height": 35
        },
        "outputId": "9a23d56d-f1cd-4293-ee7c-c2669c590321"
      },
      "source": [
        "# XGboost с гиперапарметрами по умолчанию\n",
        "%%timeit\n",
        "xgboost_clf = XGBClassifier(n_estimators=100)\n",
        "xgboost_clf.fit(X_train, y_train)\n",
        "y_pred_proba_xgboost = xgboost_clf.predict_proba(X_test)[:, 1]"
      ],
      "execution_count": null,
      "outputs": [
        {
          "output_type": "stream",
          "text": [
            "1 loop, best of 3: 2.24 s per loop\n"
          ],
          "name": "stdout"
        }
      ]
    },
    {
      "cell_type": "code",
      "metadata": {
        "id": "5PKrdJ7SeiYZ",
        "colab_type": "code",
        "colab": {
          "base_uri": "https://localhost:8080/",
          "height": 35
        },
        "outputId": "38a544b3-0874-441f-98eb-8d52068aa175"
      },
      "source": [
        "xgboost_clf = XGBClassifier(n_estimators=100)\n",
        "xgboost_clf.fit(X_train, y_train)\n",
        "y_pred_proba_xgboost = xgboost_clf.predict_proba(X_test)[:, 1]\n",
        "fpr_xgboost, tpr_xgboost, thresholds_xgboost = roc_curve(y_test, y_pred_proba_xgboost, pos_label=1)\n",
        "print('ROC-AUC_score : {:.2f}'.format(roc_auc_score(y_test, y_pred_proba_xgboost)))"
      ],
      "execution_count": null,
      "outputs": [
        {
          "output_type": "stream",
          "text": [
            "ROC-AUC_score : 0.78\n"
          ],
          "name": "stdout"
        }
      ]
    },
    {
      "cell_type": "code",
      "metadata": {
        "id": "92vj2NE5kq3H",
        "colab_type": "code",
        "colab": {
          "base_uri": "https://localhost:8080/",
          "height": 35
        },
        "outputId": "ddb69f3d-335d-4b61-cb9a-0ef9cbbf842c"
      },
      "source": [
        "# CatBoost с гиперапарметрами по умолчанию\n",
        "%%timeit\n",
        "catboost_clf = CatBoostClassifier(iterations=100,\n",
        "                                  verbose=False)\n",
        "catboost_clf.fit(X_train, y_train)\n",
        "y_pred_proba_catboost = catboost_clf.predict_proba(X_test)[:, 1]"
      ],
      "execution_count": null,
      "outputs": [
        {
          "output_type": "stream",
          "text": [
            "1 loop, best of 3: 3.61 s per loop\n"
          ],
          "name": "stdout"
        }
      ]
    },
    {
      "cell_type": "code",
      "metadata": {
        "id": "jMw567OSkvF9",
        "colab_type": "code",
        "colab": {
          "base_uri": "https://localhost:8080/",
          "height": 35
        },
        "outputId": "a76958e4-3648-49b6-a034-662e7c767d54"
      },
      "source": [
        "catboost_clf = CatBoostClassifier(iterations=100, verbose=False)\n",
        "catboost_clf.fit(X_train, y_train)\n",
        "y_pred_proba_catboost = catboost_clf.predict_proba(X_test)[:, 1]\n",
        "fpr_catboost, tpr_catboost, thresholds_catboost = roc_curve(y_test, y_pred_proba_catboost, pos_label=1)\n",
        "print('ROC-AUC_score : {:.2f}'.format(roc_auc_score(y_test, y_pred_proba_catboost)))"
      ],
      "execution_count": null,
      "outputs": [
        {
          "output_type": "stream",
          "text": [
            "ROC-AUC_score : 0.78\n"
          ],
          "name": "stdout"
        }
      ]
    },
    {
      "cell_type": "code",
      "metadata": {
        "id": "qc06xuyElGRu",
        "colab_type": "code",
        "colab": {
          "base_uri": "https://localhost:8080/",
          "height": 35
        },
        "outputId": "9e6f0e3f-927e-4d63-92cb-c3142ad71248"
      },
      "source": [
        "# CatBoost с гиперапарметрами по умолчанию, но на GPU\n",
        "%%timeit\n",
        "device = torch.device('cuda:0' if torch.cuda.is_available() else 'cpu')\n",
        "if device.type == 'cuda':\n",
        "  catboost_clf = CatBoostClassifier(iterations=100,\n",
        "                                     verbose=False, \n",
        "                                     task_type='GPU')\n",
        "  \n",
        "  catboost_clf.fit(X_train, y_train)\n",
        "  y_pred_proba_catboost = catboost_clf.predict_proba(X_test)[:, 1]"
      ],
      "execution_count": null,
      "outputs": [
        {
          "output_type": "stream",
          "text": [
            "1 loop, best of 3: 2.3 s per loop\n"
          ],
          "name": "stdout"
        }
      ]
    },
    {
      "cell_type": "code",
      "metadata": {
        "id": "ho36PHh-0L9F",
        "colab_type": "code",
        "colab": {
          "base_uri": "https://localhost:8080/",
          "height": 295
        },
        "outputId": "6d7e3354-765a-41e2-906b-363d58a3bc8b"
      },
      "source": [
        "# построение ROC-кривой\n",
        "plt.figure(figsize=(6, 4))\n",
        "plt.plot([0, 1], [0, 1], 'k--')\n",
        "plt.plot(fpr_lgbm, tpr_lgbm, label='LGBM', linewidth=4, alpha=0.4)\n",
        "plt.plot(fpr_xgboost, tpr_xgboost, label='XGBOOST', linewidth=1)\n",
        "plt.plot(fpr_catboost, tpr_catboost, label='CatBoost', linewidth=8, alpha=0.2)\n",
        "plt.xlabel('False positive rate')\n",
        "plt.ylabel('True positive rate')\n",
        "plt.title('ROC curve')\n",
        "plt.legend(loc='best')\n",
        "plt.grid()\n",
        "plt.show()"
      ],
      "execution_count": null,
      "outputs": [
        {
          "output_type": "display_data",
          "data": {
            "image/png": "[encoded data removed]",
            "text/plain": [
              "<Figure size 432x288 with 1 Axes>"
            ]
          },
          "metadata": {
            "tags": [],
            "needs_background": "light"
          }
        }
      ]
    },
    {
      "cell_type": "markdown",
      "metadata": {
        "id": "cKMOqF4OmHzU",
        "colab_type": "text"
      },
      "source": [
        "Тут уже видны премущества, как по времени так и по качеству CatBoost и LGBM. CatBoost на GPU работает на GPU в среднем побыстрее LGBM. Качество для CatBoost и LGBM выше, чем у XGBoost"
      ]
    },
    {
      "cell_type": "markdown",
      "metadata": {
        "id": "q3U7aEGL0ktR",
        "colab_type": "text"
      },
      "source": [
        "#### <center> Добавим подбор гиперпараметров на кросс-валидации <center> \n",
        "\n",
        "---\n",
        "\n",
        "\n",
        "\n",
        "\n",
        "\n",
        "\n"
      ]
    },
    {
      "cell_type": "code",
      "metadata": {
        "id": "vchHvjmE0j1_",
        "colab_type": "code",
        "colab": {
          "base_uri": "https://localhost:8080/",
          "height": 52
        },
        "outputId": "0a97f9f0-d976-4f0f-b5e8-6ed8a62de98d"
      },
      "source": [
        "# для LGBM\n",
        "lgbm_clf = LGBMClassifier()\n",
        "params = {'n_estimators' : np.arange(10, 400, 20),\n",
        "          'max_depth' : np.arange(2, 8, 1)\n",
        "}\n",
        "gs_lgbm = GridSearchCV(estimator=lgbm_clf, param_grid=params, \n",
        "                       scoring='roc_auc', cv=3)\n",
        "gs_lgbm.fit(X_train, y_train)\n",
        "best_lgbm_clf = gs_lgbm.best_estimator_\n",
        "print('Best_score : {:.2f}'.format(gs_lgbm.best_score_))\n",
        "y_pred_proba_lgbm = best_lgbm_clf.predict_proba(X_test)[:, 1]\n",
        "fpr_lgbm, tpr_lgbm, thresholds_lgbm = roc_curve(y_test, y_pred_proba_lgbm, pos_label=1)\n",
        "print('Score on test : {:.2f}'.format(roc_auc_score(y_test, y_pred_proba_lgbm)))   "
      ],
      "execution_count": null,
      "outputs": [
        {
          "output_type": "stream",
          "text": [
            "Best_score : 0.77\n",
            "Score on test : 0.79\n"
          ],
          "name": "stdout"
        }
      ]
    },
    {
      "cell_type": "code",
      "metadata": {
        "id": "i2tS0WtTNthC",
        "colab_type": "code",
        "colab": {
          "base_uri": "https://localhost:8080/",
          "height": 52
        },
        "outputId": "861b0233-dd08-42db-addb-e3f86da5a90e"
      },
      "source": [
        "# для XGBoost\n",
        "xgboost_clf = XGBClassifier()\n",
        "params = {'n_estimators' : np.arange(10, 400, 20),\n",
        "          'max_depth' : np.arange(2, 8, 1)\n",
        "}\n",
        "gs_xgboost = GridSearchCV(estimator=xgboost_clf, param_grid=params, \n",
        "                          scoring='roc_auc', cv=3)\n",
        "gs_xgboost.fit(X_train, y_train)\n",
        "best_xgboost_clf = gs_xgboost.best_estimator_\n",
        "print('Best_score : {:.2f}'.format(gs_xgboost.best_score_))\n",
        "y_pred_proba_xgboost = best_xgboost_clf.predict_proba(X_test)[:, 1]\n",
        "fpr_xgboost, tpr_xgboost, thresholds_xgboost = roc_curve(y_test, y_pred_proba_xgboost, pos_label=1)\n",
        "print('Score on test : {:.2f}'.format(roc_auc_score(y_test, y_pred_proba_xgboost)))   "
      ],
      "execution_count": null,
      "outputs": [
        {
          "output_type": "stream",
          "text": [
            "Best_score : 0.78\n",
            "Score on test : 0.78\n"
          ],
          "name": "stdout"
        }
      ]
    },
    {
      "cell_type": "code",
      "metadata": {
        "id": "-GO-SjvmNtj-",
        "colab_type": "code",
        "colab": {
          "base_uri": "https://localhost:8080/",
          "height": 52
        },
        "outputId": "705e1f92-09a2-471b-cec7-2ce6b1c822de"
      },
      "source": [
        "# для CatBoost\n",
        "catboost_clf = CatBoostClassifier(task_type='GPU', verbose=False)\n",
        "params = {'iterations' : np.arange(10, 400, 20),\n",
        "          'max_depth' : np.arange(2, 8, 1)\n",
        "}\n",
        "gs_catboost = GridSearchCV(estimator=catboost_clf, param_grid=params, \n",
        "                          scoring='roc_auc', cv=3)\n",
        "gs_catboost.fit(X_train, y_train)\n",
        "best_catboost_clf = gs_catboost.best_estimator_\n",
        "print('Best_score : {:.2f}'.format(gs_catboost.best_score_))\n",
        "y_pred_proba_catboost = best_catboost_clf.predict_proba(X_test)[:, 1]\n",
        "fpr_catboost, tpr_catboost, thresholds_catboost = roc_curve(y_test, y_pred_proba_catboost, pos_label=1)\n",
        "print('Score on test : {:.2f}'.format(roc_auc_score(y_test, y_pred_proba_catboost)))  "
      ],
      "execution_count": null,
      "outputs": [
        {
          "output_type": "stream",
          "text": [
            "Best_score : 0.78\n",
            "Score on test : 0.78\n"
          ],
          "name": "stdout"
        }
      ]
    },
    {
      "cell_type": "code",
      "metadata": {
        "id": "K8TN2z_j5B6X",
        "colab_type": "code",
        "colab": {
          "base_uri": "https://localhost:8080/",
          "height": 266
        },
        "outputId": "0e106c81-8acc-4bba-d624-2a5a23e036c5"
      },
      "source": [
        "# посмотрим на гиперпараметры, подобранные для каждого алгоритма\n",
        "print('Best LGBM classifier : ', best_lgbm_clf)\n",
        "print('Best XGBOOST classifier : ', best_xgboost_clf)\n",
        "print('Best CatBoost classifier : n_estimators {}, max_depth {}'.format(best_catboost_clf.tree_count_, best_catboost_clf.get_all_params()['depth']))"
      ],
      "execution_count": null,
      "outputs": [
        {
          "output_type": "stream",
          "text": [
            "Best LGBM classifier :  LGBMClassifier(boosting_type='gbdt', class_weight=None, colsample_bytree=1.0,\n",
            "               importance_type='split', learning_rate=0.1, max_depth=7,\n",
            "               min_child_samples=20, min_child_weight=0.001, min_split_gain=0.0,\n",
            "               n_estimators=390, n_jobs=-1, num_leaves=31, objective=None,\n",
            "               random_state=None, reg_alpha=0.0, reg_lambda=0.0, silent=True,\n",
            "               subsample=1.0, subsample_for_bin=200000, subsample_freq=0)\n",
            "Best XGBOOST classifier :  XGBClassifier(base_score=0.5, booster='gbtree', colsample_bylevel=1,\n",
            "              colsample_bynode=1, colsample_bytree=1, gamma=0,\n",
            "              learning_rate=0.1, max_delta_step=0, max_depth=6,\n",
            "              min_child_weight=1, missing=None, n_estimators=330, n_jobs=1,\n",
            "              nthread=None, objective='binary:logistic', random_state=0,\n",
            "              reg_alpha=0, reg_lambda=1, scale_pos_weight=1, seed=None,\n",
            "              silent=None, subsample=1, verbosity=1)\n",
            "Best CatBoost classifier : n_estimators 290, max_depth 7\n"
          ],
          "name": "stdout"
        }
      ]
    },
    {
      "cell_type": "code",
      "metadata": {
        "id": "obVL8wk3eTXg",
        "colab_type": "code",
        "colab": {
          "base_uri": "https://localhost:8080/",
          "height": 295
        },
        "outputId": "75c7afb8-f6c1-430c-e904-09d4a596e311"
      },
      "source": [
        "# построение ROC-кривой\n",
        "plt.figure(figsize=(6, 4))\n",
        "plt.plot([0, 1], [0, 1], 'k--')\n",
        "plt.plot(fpr_lgbm, tpr_lgbm, label='LGBM', linewidth=4, alpha=0.4)\n",
        "plt.plot(fpr_xgboost, tpr_xgboost, label='XGBOOST', linewidth=1)\n",
        "plt.plot(fpr_catboost, tpr_catboost, label='CatBoost', linewidth=8, alpha=0.2)\n",
        "plt.xlabel('False positive rate')\n",
        "plt.ylabel('True positive rate')\n",
        "plt.title('ROC curve')\n",
        "plt.legend(loc='best')\n",
        "plt.grid()\n",
        "plt.show()"
      ],
      "execution_count": null,
      "outputs": [
        {
          "output_type": "display_data",
          "data": {
            "image/png": "[encoded data removed]",
            "text/plain": [
              "<Figure size 432x288 with 1 Axes>"
            ]
          },
          "metadata": {
            "tags": [],
            "needs_background": "light"
          }
        }
      ]
    },
    {
      "cell_type": "markdown",
      "metadata": {
        "id": "deQOMrCS4rKW",
        "colab_type": "text"
      },
      "source": [
        "После подбора гиперпараметров алгоримы дают примерно одинаковое качество\n"
      ]
    }
  ]
}