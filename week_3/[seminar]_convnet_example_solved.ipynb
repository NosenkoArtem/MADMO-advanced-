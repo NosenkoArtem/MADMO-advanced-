{
  "nbformat": 4,
  "nbformat_minor": 0,
  "metadata": {
    "kernelspec": {
      "name": "python3",
      "display_name": "Python 3"
    },
    "colab": {
      "name": "[seminar]_convnet_example_solved.ipynb",
      "provenance": [],
      "collapsed_sections": [],
      "include_colab_link": true
    },
    "accelerator": "GPU",
    "widgets": {
      "application/vnd.jupyter.widget-state+json": {
        "fdfd7c14c04a4e8cb6dcfef6f0161053": {
          "model_module": "@jupyter-widgets/controls",
          "model_name": "HBoxModel",
          "state": {
            "_view_name": "HBoxView",
            "_dom_classes": [],
            "_model_name": "HBoxModel",
            "_view_module": "@jupyter-widgets/controls",
            "_model_module_version": "1.5.0",
            "_view_count": null,
            "_view_module_version": "1.5.0",
            "box_style": "",
            "layout": "IPY_MODEL_d1ea0e5183304330a9fdc6fbdad510b2",
            "_model_module": "@jupyter-widgets/controls",
            "children": [
              "IPY_MODEL_079d7de1c7c14d97acd6a6a457015e25",
              "IPY_MODEL_0c593cb5ff0c4b1680fb6f4d8e2e8e0b"
            ]
          }
        },
        "d1ea0e5183304330a9fdc6fbdad510b2": {
          "model_module": "@jupyter-widgets/base",
          "model_name": "LayoutModel",
          "state": {
            "_view_name": "LayoutView",
            "grid_template_rows": null,
            "right": null,
            "justify_content": null,
            "_view_module": "@jupyter-widgets/base",
            "overflow": null,
            "_model_module_version": "1.2.0",
            "_view_count": null,
            "flex_flow": null,
            "width": null,
            "min_width": null,
            "border": null,
            "align_items": null,
            "bottom": null,
            "_model_module": "@jupyter-widgets/base",
            "top": null,
            "grid_column": null,
            "overflow_y": null,
            "overflow_x": null,
            "grid_auto_flow": null,
            "grid_area": null,
            "grid_template_columns": null,
            "flex": null,
            "_model_name": "LayoutModel",
            "justify_items": null,
            "grid_row": null,
            "max_height": null,
            "align_content": null,
            "visibility": null,
            "align_self": null,
            "height": null,
            "min_height": null,
            "padding": null,
            "grid_auto_rows": null,
            "grid_gap": null,
            "max_width": null,
            "order": null,
            "_view_module_version": "1.2.0",
            "grid_template_areas": null,
            "object_position": null,
            "object_fit": null,
            "grid_auto_columns": null,
            "margin": null,
            "display": null,
            "left": null
          }
        },
        "079d7de1c7c14d97acd6a6a457015e25": {
          "model_module": "@jupyter-widgets/controls",
          "model_name": "FloatProgressModel",
          "state": {
            "_view_name": "ProgressView",
            "style": "IPY_MODEL_16ab3806445c465abdabdcde0391103a",
            "_dom_classes": [],
            "description": "",
            "_model_name": "FloatProgressModel",
            "bar_style": "info",
            "max": 1,
            "_view_module": "@jupyter-widgets/controls",
            "_model_module_version": "1.5.0",
            "value": 1,
            "_view_count": null,
            "_view_module_version": "1.5.0",
            "orientation": "horizontal",
            "min": 0,
            "description_tooltip": null,
            "_model_module": "@jupyter-widgets/controls",
            "layout": "IPY_MODEL_6ab075c51d494f4bbd620290d8bcedab"
          }
        },
        "0c593cb5ff0c4b1680fb6f4d8e2e8e0b": {
          "model_module": "@jupyter-widgets/controls",
          "model_name": "HTMLModel",
          "state": {
            "_view_name": "HTMLView",
            "style": "IPY_MODEL_e87ac1ebe5854fff86fb287469ce3a6c",
            "_dom_classes": [],
            "description": "",
            "_model_name": "HTMLModel",
            "placeholder": "​",
            "_view_module": "@jupyter-widgets/controls",
            "_model_module_version": "1.5.0",
            "value": " 9920512/? [00:20&lt;00:00, 1226273.10it/s]",
            "_view_count": null,
            "_view_module_version": "1.5.0",
            "description_tooltip": null,
            "_model_module": "@jupyter-widgets/controls",
            "layout": "IPY_MODEL_6337eda8cc7e41d683e0e2427b2bd19d"
          }
        },
        "16ab3806445c465abdabdcde0391103a": {
          "model_module": "@jupyter-widgets/controls",
          "model_name": "ProgressStyleModel",
          "state": {
            "_view_name": "StyleView",
            "_model_name": "ProgressStyleModel",
            "description_width": "initial",
            "_view_module": "@jupyter-widgets/base",
            "_model_module_version": "1.5.0",
            "_view_count": null,
            "_view_module_version": "1.2.0",
            "bar_color": null,
            "_model_module": "@jupyter-widgets/controls"
          }
        },
        "6ab075c51d494f4bbd620290d8bcedab": {
          "model_module": "@jupyter-widgets/base",
          "model_name": "LayoutModel",
          "state": {
            "_view_name": "LayoutView",
            "grid_template_rows": null,
            "right": null,
            "justify_content": null,
            "_view_module": "@jupyter-widgets/base",
            "overflow": null,
            "_model_module_version": "1.2.0",
            "_view_count": null,
            "flex_flow": null,
            "width": null,
            "min_width": null,
            "border": null,
            "align_items": null,
            "bottom": null,
            "_model_module": "@jupyter-widgets/base",
            "top": null,
            "grid_column": null,
            "overflow_y": null,
            "overflow_x": null,
            "grid_auto_flow": null,
            "grid_area": null,
            "grid_template_columns": null,
            "flex": null,
            "_model_name": "LayoutModel",
            "justify_items": null,
            "grid_row": null,
            "max_height": null,
            "align_content": null,
            "visibility": null,
            "align_self": null,
            "height": null,
            "min_height": null,
            "padding": null,
            "grid_auto_rows": null,
            "grid_gap": null,
            "max_width": null,
            "order": null,
            "_view_module_version": "1.2.0",
            "grid_template_areas": null,
            "object_position": null,
            "object_fit": null,
            "grid_auto_columns": null,
            "margin": null,
            "display": null,
            "left": null
          }
        },
        "e87ac1ebe5854fff86fb287469ce3a6c": {
          "model_module": "@jupyter-widgets/controls",
          "model_name": "DescriptionStyleModel",
          "state": {
            "_view_name": "StyleView",
            "_model_name": "DescriptionStyleModel",
            "description_width": "",
            "_view_module": "@jupyter-widgets/base",
            "_model_module_version": "1.5.0",
            "_view_count": null,
            "_view_module_version": "1.2.0",
            "_model_module": "@jupyter-widgets/controls"
          }
        },
        "6337eda8cc7e41d683e0e2427b2bd19d": {
          "model_module": "@jupyter-widgets/base",
          "model_name": "LayoutModel",
          "state": {
            "_view_name": "LayoutView",
            "grid_template_rows": null,
            "right": null,
            "justify_content": null,
            "_view_module": "@jupyter-widgets/base",
            "overflow": null,
            "_model_module_version": "1.2.0",
            "_view_count": null,
            "flex_flow": null,
            "width": null,
            "min_width": null,
            "border": null,
            "align_items": null,
            "bottom": null,
            "_model_module": "@jupyter-widgets/base",
            "top": null,
            "grid_column": null,
            "overflow_y": null,
            "overflow_x": null,
            "grid_auto_flow": null,
            "grid_area": null,
            "grid_template_columns": null,
            "flex": null,
            "_model_name": "LayoutModel",
            "justify_items": null,
            "grid_row": null,
            "max_height": null,
            "align_content": null,
            "visibility": null,
            "align_self": null,
            "height": null,
            "min_height": null,
            "padding": null,
            "grid_auto_rows": null,
            "grid_gap": null,
            "max_width": null,
            "order": null,
            "_view_module_version": "1.2.0",
            "grid_template_areas": null,
            "object_position": null,
            "object_fit": null,
            "grid_auto_columns": null,
            "margin": null,
            "display": null,
            "left": null
          }
        },
        "92993a0992e94d5aa9d2c9d27d03ed14": {
          "model_module": "@jupyter-widgets/controls",
          "model_name": "HBoxModel",
          "state": {
            "_view_name": "HBoxView",
            "_dom_classes": [],
            "_model_name": "HBoxModel",
            "_view_module": "@jupyter-widgets/controls",
            "_model_module_version": "1.5.0",
            "_view_count": null,
            "_view_module_version": "1.5.0",
            "box_style": "",
            "layout": "IPY_MODEL_5f37042c3b8e418d9e07f438600993e4",
            "_model_module": "@jupyter-widgets/controls",
            "children": [
              "IPY_MODEL_4f7019aeba5d40d9b3a0f0a34587ec0a",
              "IPY_MODEL_bd03c3eb23a4412b85ae5e23b04b7d42"
            ]
          }
        },
        "5f37042c3b8e418d9e07f438600993e4": {
          "model_module": "@jupyter-widgets/base",
          "model_name": "LayoutModel",
          "state": {
            "_view_name": "LayoutView",
            "grid_template_rows": null,
            "right": null,
            "justify_content": null,
            "_view_module": "@jupyter-widgets/base",
            "overflow": null,
            "_model_module_version": "1.2.0",
            "_view_count": null,
            "flex_flow": null,
            "width": null,
            "min_width": null,
            "border": null,
            "align_items": null,
            "bottom": null,
            "_model_module": "@jupyter-widgets/base",
            "top": null,
            "grid_column": null,
            "overflow_y": null,
            "overflow_x": null,
            "grid_auto_flow": null,
            "grid_area": null,
            "grid_template_columns": null,
            "flex": null,
            "_model_name": "LayoutModel",
            "justify_items": null,
            "grid_row": null,
            "max_height": null,
            "align_content": null,
            "visibility": null,
            "align_self": null,
            "height": null,
            "min_height": null,
            "padding": null,
            "grid_auto_rows": null,
            "grid_gap": null,
            "max_width": null,
            "order": null,
            "_view_module_version": "1.2.0",
            "grid_template_areas": null,
            "object_position": null,
            "object_fit": null,
            "grid_auto_columns": null,
            "margin": null,
            "display": null,
            "left": null
          }
        },
        "4f7019aeba5d40d9b3a0f0a34587ec0a": {
          "model_module": "@jupyter-widgets/controls",
          "model_name": "FloatProgressModel",
          "state": {
            "_view_name": "ProgressView",
            "style": "IPY_MODEL_9c986168bbd440039797cca13884a018",
            "_dom_classes": [],
            "description": "",
            "_model_name": "FloatProgressModel",
            "bar_style": "info",
            "max": 1,
            "_view_module": "@jupyter-widgets/controls",
            "_model_module_version": "1.5.0",
            "value": 1,
            "_view_count": null,
            "_view_module_version": "1.5.0",
            "orientation": "horizontal",
            "min": 0,
            "description_tooltip": null,
            "_model_module": "@jupyter-widgets/controls",
            "layout": "IPY_MODEL_c70659612f1040519d368db2b7d27d81"
          }
        },
        "bd03c3eb23a4412b85ae5e23b04b7d42": {
          "model_module": "@jupyter-widgets/controls",
          "model_name": "HTMLModel",
          "state": {
            "_view_name": "HTMLView",
            "style": "IPY_MODEL_eaa19d42de9f432ca3e2ceb9195de95c",
            "_dom_classes": [],
            "description": "",
            "_model_name": "HTMLModel",
            "placeholder": "​",
            "_view_module": "@jupyter-widgets/controls",
            "_model_module_version": "1.5.0",
            "value": " 32768/? [00:16&lt;00:00, 70127.35it/s]",
            "_view_count": null,
            "_view_module_version": "1.5.0",
            "description_tooltip": null,
            "_model_module": "@jupyter-widgets/controls",
            "layout": "IPY_MODEL_384a40c9fb9d40a98bb65a6a79a3032e"
          }
        },
        "9c986168bbd440039797cca13884a018": {
          "model_module": "@jupyter-widgets/controls",
          "model_name": "ProgressStyleModel",
          "state": {
            "_view_name": "StyleView",
            "_model_name": "ProgressStyleModel",
            "description_width": "initial",
            "_view_module": "@jupyter-widgets/base",
            "_model_module_version": "1.5.0",
            "_view_count": null,
            "_view_module_version": "1.2.0",
            "bar_color": null,
            "_model_module": "@jupyter-widgets/controls"
          }
        },
        "c70659612f1040519d368db2b7d27d81": {
          "model_module": "@jupyter-widgets/base",
          "model_name": "LayoutModel",
          "state": {
            "_view_name": "LayoutView",
            "grid_template_rows": null,
            "right": null,
            "justify_content": null,
            "_view_module": "@jupyter-widgets/base",
            "overflow": null,
            "_model_module_version": "1.2.0",
            "_view_count": null,
            "flex_flow": null,
            "width": null,
            "min_width": null,
            "border": null,
            "align_items": null,
            "bottom": null,
            "_model_module": "@jupyter-widgets/base",
            "top": null,
            "grid_column": null,
            "overflow_y": null,
            "overflow_x": null,
            "grid_auto_flow": null,
            "grid_area": null,
            "grid_template_columns": null,
            "flex": null,
            "_model_name": "LayoutModel",
            "justify_items": null,
            "grid_row": null,
            "max_height": null,
            "align_content": null,
            "visibility": null,
            "align_self": null,
            "height": null,
            "min_height": null,
            "padding": null,
            "grid_auto_rows": null,
            "grid_gap": null,
            "max_width": null,
            "order": null,
            "_view_module_version": "1.2.0",
            "grid_template_areas": null,
            "object_position": null,
            "object_fit": null,
            "grid_auto_columns": null,
            "margin": null,
            "display": null,
            "left": null
          }
        },
        "eaa19d42de9f432ca3e2ceb9195de95c": {
          "model_module": "@jupyter-widgets/controls",
          "model_name": "DescriptionStyleModel",
          "state": {
            "_view_name": "StyleView",
            "_model_name": "DescriptionStyleModel",
            "description_width": "",
            "_view_module": "@jupyter-widgets/base",
            "_model_module_version": "1.5.0",
            "_view_count": null,
            "_view_module_version": "1.2.0",
            "_model_module": "@jupyter-widgets/controls"
          }
        },
        "384a40c9fb9d40a98bb65a6a79a3032e": {
          "model_module": "@jupyter-widgets/base",
          "model_name": "LayoutModel",
          "state": {
            "_view_name": "LayoutView",
            "grid_template_rows": null,
            "right": null,
            "justify_content": null,
            "_view_module": "@jupyter-widgets/base",
            "overflow": null,
            "_model_module_version": "1.2.0",
            "_view_count": null,
            "flex_flow": null,
            "width": null,
            "min_width": null,
            "border": null,
            "align_items": null,
            "bottom": null,
            "_model_module": "@jupyter-widgets/base",
            "top": null,
            "grid_column": null,
            "overflow_y": null,
            "overflow_x": null,
            "grid_auto_flow": null,
            "grid_area": null,
            "grid_template_columns": null,
            "flex": null,
            "_model_name": "LayoutModel",
            "justify_items": null,
            "grid_row": null,
            "max_height": null,
            "align_content": null,
            "visibility": null,
            "align_self": null,
            "height": null,
            "min_height": null,
            "padding": null,
            "grid_auto_rows": null,
            "grid_gap": null,
            "max_width": null,
            "order": null,
            "_view_module_version": "1.2.0",
            "grid_template_areas": null,
            "object_position": null,
            "object_fit": null,
            "grid_auto_columns": null,
            "margin": null,
            "display": null,
            "left": null
          }
        },
        "2b9c177fceac4986aba9202fcdc2965d": {
          "model_module": "@jupyter-widgets/controls",
          "model_name": "HBoxModel",
          "state": {
            "_view_name": "HBoxView",
            "_dom_classes": [],
            "_model_name": "HBoxModel",
            "_view_module": "@jupyter-widgets/controls",
            "_model_module_version": "1.5.0",
            "_view_count": null,
            "_view_module_version": "1.5.0",
            "box_style": "",
            "layout": "IPY_MODEL_538ee42f406d48a1b34b83e5647d71d2",
            "_model_module": "@jupyter-widgets/controls",
            "children": [
              "IPY_MODEL_ceebf9aed03a4fb3afaa580937dfd8d3",
              "IPY_MODEL_0adbee1d5ec2493d84658fb9076d4394"
            ]
          }
        },
        "538ee42f406d48a1b34b83e5647d71d2": {
          "model_module": "@jupyter-widgets/base",
          "model_name": "LayoutModel",
          "state": {
            "_view_name": "LayoutView",
            "grid_template_rows": null,
            "right": null,
            "justify_content": null,
            "_view_module": "@jupyter-widgets/base",
            "overflow": null,
            "_model_module_version": "1.2.0",
            "_view_count": null,
            "flex_flow": null,
            "width": null,
            "min_width": null,
            "border": null,
            "align_items": null,
            "bottom": null,
            "_model_module": "@jupyter-widgets/base",
            "top": null,
            "grid_column": null,
            "overflow_y": null,
            "overflow_x": null,
            "grid_auto_flow": null,
            "grid_area": null,
            "grid_template_columns": null,
            "flex": null,
            "_model_name": "LayoutModel",
            "justify_items": null,
            "grid_row": null,
            "max_height": null,
            "align_content": null,
            "visibility": null,
            "align_self": null,
            "height": null,
            "min_height": null,
            "padding": null,
            "grid_auto_rows": null,
            "grid_gap": null,
            "max_width": null,
            "order": null,
            "_view_module_version": "1.2.0",
            "grid_template_areas": null,
            "object_position": null,
            "object_fit": null,
            "grid_auto_columns": null,
            "margin": null,
            "display": null,
            "left": null
          }
        },
        "ceebf9aed03a4fb3afaa580937dfd8d3": {
          "model_module": "@jupyter-widgets/controls",
          "model_name": "FloatProgressModel",
          "state": {
            "_view_name": "ProgressView",
            "style": "IPY_MODEL_37ce8293ca9246aaab552483cde65bed",
            "_dom_classes": [],
            "description": "",
            "_model_name": "FloatProgressModel",
            "bar_style": "info",
            "max": 1,
            "_view_module": "@jupyter-widgets/controls",
            "_model_module_version": "1.5.0",
            "value": 1,
            "_view_count": null,
            "_view_module_version": "1.5.0",
            "orientation": "horizontal",
            "min": 0,
            "description_tooltip": null,
            "_model_module": "@jupyter-widgets/controls",
            "layout": "IPY_MODEL_f024deb66ed947f7b77b0d3636ab033e"
          }
        },
        "0adbee1d5ec2493d84658fb9076d4394": {
          "model_module": "@jupyter-widgets/controls",
          "model_name": "HTMLModel",
          "state": {
            "_view_name": "HTMLView",
            "style": "IPY_MODEL_bf14858ed79a45469a67e5c5297aa147",
            "_dom_classes": [],
            "description": "",
            "_model_name": "HTMLModel",
            "placeholder": "​",
            "_view_module": "@jupyter-widgets/controls",
            "_model_module_version": "1.5.0",
            "value": " 1654784/? [00:15&lt;00:00, 257113.06it/s]",
            "_view_count": null,
            "_view_module_version": "1.5.0",
            "description_tooltip": null,
            "_model_module": "@jupyter-widgets/controls",
            "layout": "IPY_MODEL_f0012de5ed28406a9fb3b3b80308be1e"
          }
        },
        "37ce8293ca9246aaab552483cde65bed": {
          "model_module": "@jupyter-widgets/controls",
          "model_name": "ProgressStyleModel",
          "state": {
            "_view_name": "StyleView",
            "_model_name": "ProgressStyleModel",
            "description_width": "initial",
            "_view_module": "@jupyter-widgets/base",
            "_model_module_version": "1.5.0",
            "_view_count": null,
            "_view_module_version": "1.2.0",
            "bar_color": null,
            "_model_module": "@jupyter-widgets/controls"
          }
        },
        "f024deb66ed947f7b77b0d3636ab033e": {
          "model_module": "@jupyter-widgets/base",
          "model_name": "LayoutModel",
          "state": {
            "_view_name": "LayoutView",
            "grid_template_rows": null,
            "right": null,
            "justify_content": null,
            "_view_module": "@jupyter-widgets/base",
            "overflow": null,
            "_model_module_version": "1.2.0",
            "_view_count": null,
            "flex_flow": null,
            "width": null,
            "min_width": null,
            "border": null,
            "align_items": null,
            "bottom": null,
            "_model_module": "@jupyter-widgets/base",
            "top": null,
            "grid_column": null,
            "overflow_y": null,
            "overflow_x": null,
            "grid_auto_flow": null,
            "grid_area": null,
            "grid_template_columns": null,
            "flex": null,
            "_model_name": "LayoutModel",
            "justify_items": null,
            "grid_row": null,
            "max_height": null,
            "align_content": null,
            "visibility": null,
            "align_self": null,
            "height": null,
            "min_height": null,
            "padding": null,
            "grid_auto_rows": null,
            "grid_gap": null,
            "max_width": null,
            "order": null,
            "_view_module_version": "1.2.0",
            "grid_template_areas": null,
            "object_position": null,
            "object_fit": null,
            "grid_auto_columns": null,
            "margin": null,
            "display": null,
            "left": null
          }
        },
        "bf14858ed79a45469a67e5c5297aa147": {
          "model_module": "@jupyter-widgets/controls",
          "model_name": "DescriptionStyleModel",
          "state": {
            "_view_name": "StyleView",
            "_model_name": "DescriptionStyleModel",
            "description_width": "",
            "_view_module": "@jupyter-widgets/base",
            "_model_module_version": "1.5.0",
            "_view_count": null,
            "_view_module_version": "1.2.0",
            "_model_module": "@jupyter-widgets/controls"
          }
        },
        "f0012de5ed28406a9fb3b3b80308be1e": {
          "model_module": "@jupyter-widgets/base",
          "model_name": "LayoutModel",
          "state": {
            "_view_name": "LayoutView",
            "grid_template_rows": null,
            "right": null,
            "justify_content": null,
            "_view_module": "@jupyter-widgets/base",
            "overflow": null,
            "_model_module_version": "1.2.0",
            "_view_count": null,
            "flex_flow": null,
            "width": null,
            "min_width": null,
            "border": null,
            "align_items": null,
            "bottom": null,
            "_model_module": "@jupyter-widgets/base",
            "top": null,
            "grid_column": null,
            "overflow_y": null,
            "overflow_x": null,
            "grid_auto_flow": null,
            "grid_area": null,
            "grid_template_columns": null,
            "flex": null,
            "_model_name": "LayoutModel",
            "justify_items": null,
            "grid_row": null,
            "max_height": null,
            "align_content": null,
            "visibility": null,
            "align_self": null,
            "height": null,
            "min_height": null,
            "padding": null,
            "grid_auto_rows": null,
            "grid_gap": null,
            "max_width": null,
            "order": null,
            "_view_module_version": "1.2.0",
            "grid_template_areas": null,
            "object_position": null,
            "object_fit": null,
            "grid_auto_columns": null,
            "margin": null,
            "display": null,
            "left": null
          }
        },
        "a7b14ee8f7a54d57b4cc32a1868cbdd6": {
          "model_module": "@jupyter-widgets/controls",
          "model_name": "HBoxModel",
          "state": {
            "_view_name": "HBoxView",
            "_dom_classes": [],
            "_model_name": "HBoxModel",
            "_view_module": "@jupyter-widgets/controls",
            "_model_module_version": "1.5.0",
            "_view_count": null,
            "_view_module_version": "1.5.0",
            "box_style": "",
            "layout": "IPY_MODEL_bdae8d0e2955414d974342970e849bae",
            "_model_module": "@jupyter-widgets/controls",
            "children": [
              "IPY_MODEL_31d54bf1e6cb48288fd286e1f5676023",
              "IPY_MODEL_b661ad8d8c764cd6885a23ca6afd75ef"
            ]
          }
        },
        "bdae8d0e2955414d974342970e849bae": {
          "model_module": "@jupyter-widgets/base",
          "model_name": "LayoutModel",
          "state": {
            "_view_name": "LayoutView",
            "grid_template_rows": null,
            "right": null,
            "justify_content": null,
            "_view_module": "@jupyter-widgets/base",
            "overflow": null,
            "_model_module_version": "1.2.0",
            "_view_count": null,
            "flex_flow": null,
            "width": null,
            "min_width": null,
            "border": null,
            "align_items": null,
            "bottom": null,
            "_model_module": "@jupyter-widgets/base",
            "top": null,
            "grid_column": null,
            "overflow_y": null,
            "overflow_x": null,
            "grid_auto_flow": null,
            "grid_area": null,
            "grid_template_columns": null,
            "flex": null,
            "_model_name": "LayoutModel",
            "justify_items": null,
            "grid_row": null,
            "max_height": null,
            "align_content": null,
            "visibility": null,
            "align_self": null,
            "height": null,
            "min_height": null,
            "padding": null,
            "grid_auto_rows": null,
            "grid_gap": null,
            "max_width": null,
            "order": null,
            "_view_module_version": "1.2.0",
            "grid_template_areas": null,
            "object_position": null,
            "object_fit": null,
            "grid_auto_columns": null,
            "margin": null,
            "display": null,
            "left": null
          }
        },
        "31d54bf1e6cb48288fd286e1f5676023": {
          "model_module": "@jupyter-widgets/controls",
          "model_name": "FloatProgressModel",
          "state": {
            "_view_name": "ProgressView",
            "style": "IPY_MODEL_bba8898f51344bce88b8303a1f875f9b",
            "_dom_classes": [],
            "description": "  0%",
            "_model_name": "FloatProgressModel",
            "bar_style": "info",
            "max": 1,
            "_view_module": "@jupyter-widgets/controls",
            "_model_module_version": "1.5.0",
            "value": 0,
            "_view_count": null,
            "_view_module_version": "1.5.0",
            "orientation": "horizontal",
            "min": 0,
            "description_tooltip": null,
            "_model_module": "@jupyter-widgets/controls",
            "layout": "IPY_MODEL_1d0edb25dedd4df48533011633e6d674"
          }
        },
        "b661ad8d8c764cd6885a23ca6afd75ef": {
          "model_module": "@jupyter-widgets/controls",
          "model_name": "HTMLModel",
          "state": {
            "_view_name": "HTMLView",
            "style": "IPY_MODEL_33d59f59a01442f18e44093b7dfe5811",
            "_dom_classes": [],
            "description": "",
            "_model_name": "HTMLModel",
            "placeholder": "​",
            "_view_module": "@jupyter-widgets/controls",
            "_model_module_version": "1.5.0",
            "value": " 0/4542 [00:00&lt;?, ?it/s]",
            "_view_count": null,
            "_view_module_version": "1.5.0",
            "description_tooltip": null,
            "_model_module": "@jupyter-widgets/controls",
            "layout": "IPY_MODEL_d7b4499eb0f34a9f975fd95acfcc2795"
          }
        },
        "bba8898f51344bce88b8303a1f875f9b": {
          "model_module": "@jupyter-widgets/controls",
          "model_name": "ProgressStyleModel",
          "state": {
            "_view_name": "StyleView",
            "_model_name": "ProgressStyleModel",
            "description_width": "initial",
            "_view_module": "@jupyter-widgets/base",
            "_model_module_version": "1.5.0",
            "_view_count": null,
            "_view_module_version": "1.2.0",
            "bar_color": null,
            "_model_module": "@jupyter-widgets/controls"
          }
        },
        "1d0edb25dedd4df48533011633e6d674": {
          "model_module": "@jupyter-widgets/base",
          "model_name": "LayoutModel",
          "state": {
            "_view_name": "LayoutView",
            "grid_template_rows": null,
            "right": null,
            "justify_content": null,
            "_view_module": "@jupyter-widgets/base",
            "overflow": null,
            "_model_module_version": "1.2.0",
            "_view_count": null,
            "flex_flow": null,
            "width": null,
            "min_width": null,
            "border": null,
            "align_items": null,
            "bottom": null,
            "_model_module": "@jupyter-widgets/base",
            "top": null,
            "grid_column": null,
            "overflow_y": null,
            "overflow_x": null,
            "grid_auto_flow": null,
            "grid_area": null,
            "grid_template_columns": null,
            "flex": null,
            "_model_name": "LayoutModel",
            "justify_items": null,
            "grid_row": null,
            "max_height": null,
            "align_content": null,
            "visibility": null,
            "align_self": null,
            "height": null,
            "min_height": null,
            "padding": null,
            "grid_auto_rows": null,
            "grid_gap": null,
            "max_width": null,
            "order": null,
            "_view_module_version": "1.2.0",
            "grid_template_areas": null,
            "object_position": null,
            "object_fit": null,
            "grid_auto_columns": null,
            "margin": null,
            "display": null,
            "left": null
          }
        },
        "33d59f59a01442f18e44093b7dfe5811": {
          "model_module": "@jupyter-widgets/controls",
          "model_name": "DescriptionStyleModel",
          "state": {
            "_view_name": "StyleView",
            "_model_name": "DescriptionStyleModel",
            "description_width": "",
            "_view_module": "@jupyter-widgets/base",
            "_model_module_version": "1.5.0",
            "_view_count": null,
            "_view_module_version": "1.2.0",
            "_model_module": "@jupyter-widgets/controls"
          }
        },
        "d7b4499eb0f34a9f975fd95acfcc2795": {
          "model_module": "@jupyter-widgets/base",
          "model_name": "LayoutModel",
          "state": {
            "_view_name": "LayoutView",
            "grid_template_rows": null,
            "right": null,
            "justify_content": null,
            "_view_module": "@jupyter-widgets/base",
            "overflow": null,
            "_model_module_version": "1.2.0",
            "_view_count": null,
            "flex_flow": null,
            "width": null,
            "min_width": null,
            "border": null,
            "align_items": null,
            "bottom": null,
            "_model_module": "@jupyter-widgets/base",
            "top": null,
            "grid_column": null,
            "overflow_y": null,
            "overflow_x": null,
            "grid_auto_flow": null,
            "grid_area": null,
            "grid_template_columns": null,
            "flex": null,
            "_model_name": "LayoutModel",
            "justify_items": null,
            "grid_row": null,
            "max_height": null,
            "align_content": null,
            "visibility": null,
            "align_self": null,
            "height": null,
            "min_height": null,
            "padding": null,
            "grid_auto_rows": null,
            "grid_gap": null,
            "max_width": null,
            "order": null,
            "_view_module_version": "1.2.0",
            "grid_template_areas": null,
            "object_position": null,
            "object_fit": null,
            "grid_auto_columns": null,
            "margin": null,
            "display": null,
            "left": null
          }
        }
      }
    }
  },
  "cells": [
    {
      "cell_type": "markdown",
      "metadata": {
        "id": "view-in-github",
        "colab_type": "text"
      },
      "source": [
        "<a href=\"https://colab.research.google.com/github/NosenkoArtem/MADMO-advanced-/blob/master/week_3/%5Bseminar%5D_convnet_example_solved.ipynb\" target=\"_parent\"><img src=\"https://colab.research.google.com/assets/colab-badge.svg\" alt=\"Open In Colab\"/></a>"
      ]
    },
    {
      "cell_type": "markdown",
      "metadata": {
        "id": "BBaahF25D0bk"
      },
      "source": [
        "Рассмотрим сравнение сверточной сети и многослойной полносвязной для классификации MNIST"
      ]
    },
    {
      "cell_type": "code",
      "metadata": {
        "id": "vDJD2h6FD0br"
      },
      "source": [
        "import torch\n",
        "import torch.nn as nn\n",
        "import torch.nn.functional as F\n",
        "import torch.optim as optim\n",
        "from torchvision import datasets, transforms\n",
        "import matplotlib.pyplot as plt\n",
        "import numpy\n",
        "\n",
        "# function to count number of parameters\n",
        "def get_n_params(model):\n",
        "    np=0\n",
        "    for p in list(model.parameters()):\n",
        "        np += p.nelement()\n",
        "    return np\n",
        "\n",
        "def plot_data(X, y, d=0, auto=False, zoom=1):\n",
        "    X = X.cpu()\n",
        "    y = y.cpu()\n",
        "    plt.scatter(X.numpy()[:, 0], X.numpy()[:, 1], c=y, s=20, cmap=plt.cm.Spectral)\n",
        "    plt.axis('square')\n",
        "    plt.axis(np.array((-1.1, 1.1, -1.1, 1.1)) * zoom)\n",
        "    if auto is True: plt.axis('equal')\n",
        "    plt.axis('off')\n",
        "\n",
        "    _m, _c = 0, '.15'\n",
        "    plt.axvline(0, ymin=_m, color=_c, lw=1, zorder=0)\n",
        "    plt.axhline(0, xmin=_m, color=_c, lw=1, zorder=0)\n",
        "\n",
        "def plot_model(X, y, model):\n",
        "    model.cpu()\n",
        "    mesh = np.arange(-1.1, 1.1, 0.01)\n",
        "    xx, yy = np.meshgrid(mesh, mesh)\n",
        "    with torch.no_grad():\n",
        "        data = torch.from_numpy(np.vstack((xx.reshape(-1), yy.reshape(-1))).T).float()\n",
        "        Z = model(data).detach()\n",
        "    Z = np.argmax(Z, axis=1).reshape(xx.shape)\n",
        "    plt.contourf(xx, yy, Z, cmap=plt.cm.Spectral, alpha=0.3)\n",
        "    plot_data(X, y)"
      ],
      "execution_count": null,
      "outputs": []
    },
    {
      "cell_type": "code",
      "metadata": {
        "id": "C8-SsKeRD0bu"
      },
      "source": [
        "device = torch.device(\"cuda:0\" if torch.cuda.is_available() else \"cpu\")"
      ],
      "execution_count": null,
      "outputs": []
    },
    {
      "cell_type": "markdown",
      "metadata": {
        "id": "i4QyRAOeD0bw"
      },
      "source": [
        "# Load the Dataset (MNIST)\n",
        "\n",
        "\n",
        "We can use some PyTorch DataLoader utilities for this. This will download, shuffle, normalize data and arrange it in batches."
      ]
    },
    {
      "cell_type": "code",
      "metadata": {
        "id": "dnD4VNxkD0bx",
        "colab": {
          "base_uri": "https://localhost:8080/",
          "height": 352,
          "referenced_widgets": [
            "fdfd7c14c04a4e8cb6dcfef6f0161053",
            "d1ea0e5183304330a9fdc6fbdad510b2",
            "079d7de1c7c14d97acd6a6a457015e25",
            "0c593cb5ff0c4b1680fb6f4d8e2e8e0b",
            "16ab3806445c465abdabdcde0391103a",
            "6ab075c51d494f4bbd620290d8bcedab",
            "e87ac1ebe5854fff86fb287469ce3a6c",
            "6337eda8cc7e41d683e0e2427b2bd19d",
            "92993a0992e94d5aa9d2c9d27d03ed14",
            "5f37042c3b8e418d9e07f438600993e4",
            "4f7019aeba5d40d9b3a0f0a34587ec0a",
            "bd03c3eb23a4412b85ae5e23b04b7d42",
            "9c986168bbd440039797cca13884a018",
            "c70659612f1040519d368db2b7d27d81",
            "eaa19d42de9f432ca3e2ceb9195de95c",
            "384a40c9fb9d40a98bb65a6a79a3032e",
            "2b9c177fceac4986aba9202fcdc2965d",
            "538ee42f406d48a1b34b83e5647d71d2",
            "ceebf9aed03a4fb3afaa580937dfd8d3",
            "0adbee1d5ec2493d84658fb9076d4394",
            "37ce8293ca9246aaab552483cde65bed",
            "f024deb66ed947f7b77b0d3636ab033e",
            "bf14858ed79a45469a67e5c5297aa147",
            "f0012de5ed28406a9fb3b3b80308be1e",
            "a7b14ee8f7a54d57b4cc32a1868cbdd6",
            "bdae8d0e2955414d974342970e849bae",
            "31d54bf1e6cb48288fd286e1f5676023",
            "b661ad8d8c764cd6885a23ca6afd75ef",
            "bba8898f51344bce88b8303a1f875f9b",
            "1d0edb25dedd4df48533011633e6d674",
            "33d59f59a01442f18e44093b7dfe5811",
            "d7b4499eb0f34a9f975fd95acfcc2795"
          ]
        },
        "outputId": "46292a79-e9d5-42af-8e8f-5258b3626e4f"
      },
      "source": [
        "input_size  = 28*28   # images are 28x28 pixels\n",
        "output_size = 10      # there are 10 classes\n",
        "\n",
        "train_loader = torch.utils.data.DataLoader(\n",
        "    datasets.MNIST('../data', train=True, download=True,\n",
        "                   transform=transforms.Compose([\n",
        "                       transforms.ToTensor(),\n",
        "                       transforms.Normalize((0.1307,), (0.3081,))\n",
        "                   ])),\n",
        "    batch_size=64, shuffle=True)\n",
        "\n",
        "test_loader = torch.utils.data.DataLoader(\n",
        "    datasets.MNIST('../data', train=False, transform=transforms.Compose([\n",
        "                       transforms.ToTensor(),\n",
        "                       transforms.Normalize((0.1307,), (0.3081,))\n",
        "                   ])),\n",
        "    batch_size=1000, shuffle=True)"
      ],
      "execution_count": null,
      "outputs": [
        {
          "output_type": "stream",
          "text": [
            "Downloading http://yann.lecun.com/exdb/mnist/train-images-idx3-ubyte.gz to ../data/MNIST/raw/train-images-idx3-ubyte.gz\n"
          ],
          "name": "stdout"
        },
        {
          "output_type": "display_data",
          "data": {
            "application/vnd.jupyter.widget-view+json": {
              "model_id": "fdfd7c14c04a4e8cb6dcfef6f0161053",
              "version_minor": 0,
              "version_major": 2
            },
            "text/plain": [
              "HBox(children=(FloatProgress(value=1.0, bar_style='info', max=1.0), HTML(value='')))"
            ]
          },
          "metadata": {
            "tags": []
          }
        },
        {
          "output_type": "stream",
          "text": [
            "Extracting ../data/MNIST/raw/train-images-idx3-ubyte.gz to ../data/MNIST/raw\n",
            "Downloading http://yann.lecun.com/exdb/mnist/train-labels-idx1-ubyte.gz to ../data/MNIST/raw/train-labels-idx1-ubyte.gz\n"
          ],
          "name": "stdout"
        },
        {
          "output_type": "display_data",
          "data": {
            "application/vnd.jupyter.widget-view+json": {
              "model_id": "92993a0992e94d5aa9d2c9d27d03ed14",
              "version_minor": 0,
              "version_major": 2
            },
            "text/plain": [
              "HBox(children=(FloatProgress(value=1.0, bar_style='info', max=1.0), HTML(value='')))"
            ]
          },
          "metadata": {
            "tags": []
          }
        },
        {
          "output_type": "stream",
          "text": [
            "Extracting ../data/MNIST/raw/train-labels-idx1-ubyte.gz to ../data/MNIST/raw\n",
            "Downloading http://yann.lecun.com/exdb/mnist/t10k-images-idx3-ubyte.gz to ../data/MNIST/raw/t10k-images-idx3-ubyte.gz\n"
          ],
          "name": "stdout"
        },
        {
          "output_type": "display_data",
          "data": {
            "application/vnd.jupyter.widget-view+json": {
              "model_id": "2b9c177fceac4986aba9202fcdc2965d",
              "version_minor": 0,
              "version_major": 2
            },
            "text/plain": [
              "HBox(children=(FloatProgress(value=1.0, bar_style='info', max=1.0), HTML(value='')))"
            ]
          },
          "metadata": {
            "tags": []
          }
        },
        {
          "output_type": "stream",
          "text": [
            "Extracting ../data/MNIST/raw/t10k-images-idx3-ubyte.gz to ../data/MNIST/raw\n",
            "Downloading http://yann.lecun.com/exdb/mnist/t10k-labels-idx1-ubyte.gz to ../data/MNIST/raw/t10k-labels-idx1-ubyte.gz\n"
          ],
          "name": "stdout"
        },
        {
          "output_type": "display_data",
          "data": {
            "application/vnd.jupyter.widget-view+json": {
              "model_id": "a7b14ee8f7a54d57b4cc32a1868cbdd6",
              "version_minor": 0,
              "version_major": 2
            },
            "text/plain": [
              "HBox(children=(FloatProgress(value=1.0, bar_style='info', max=1.0), HTML(value='')))"
            ]
          },
          "metadata": {
            "tags": []
          }
        },
        {
          "output_type": "stream",
          "text": [
            "Extracting ../data/MNIST/raw/t10k-labels-idx1-ubyte.gz to ../data/MNIST/raw\n",
            "Processing...\n",
            "Done!\n"
          ],
          "name": "stdout"
        },
        {
          "output_type": "stream",
          "text": [
            "/pytorch/torch/csrc/utils/tensor_numpy.cpp:141: UserWarning: The given NumPy array is not writeable, and PyTorch does not support non-writeable tensors. This means you can write to the underlying (supposedly non-writeable) NumPy array using the tensor. You may want to copy the array to protect its data or make it writeable before converting it to a tensor. This type of warning will be suppressed for the rest of this program.\n"
          ],
          "name": "stderr"
        }
      ]
    },
    {
      "cell_type": "code",
      "metadata": {
        "id": "GgcsHSlHD0bz",
        "colab": {
          "base_uri": "https://localhost:8080/",
          "height": 357
        },
        "outputId": "a8cb0319-a022-4fcc-8ea0-8bdf60bc688a"
      },
      "source": [
        "# show some images\n",
        "plt.figure(figsize=(16, 6))\n",
        "for i in range(10):\n",
        "    plt.subplot(2, 5, i + 1)\n",
        "    image, _ = train_loader.dataset.__getitem__(i)\n",
        "    plt.imshow(image.squeeze().numpy())\n",
        "    plt.axis('off');"
      ],
      "execution_count": null,
      "outputs": [
        {
          "output_type": "display_data",
          "data": {
            "image/png": "[encoded data removed]",
            "text/plain": [
              "<Figure size 1152x432 with 10 Axes>"
            ]
          },
          "metadata": {
            "tags": [],
            "needs_background": "light"
          }
        }
      ]
    },
    {
      "cell_type": "code",
      "metadata": {
        "id": "rBLqAW0mWGHe"
      },
      "source": [
        ""
      ],
      "execution_count": null,
      "outputs": []
    },
    {
      "cell_type": "markdown",
      "metadata": {
        "id": "t_iayixfD0b2"
      },
      "source": [
        "# Create the model classes"
      ]
    },
    {
      "cell_type": "code",
      "metadata": {
        "id": "5BeWDZ6KN4tT",
        "colab": {
          "base_uri": "https://localhost:8080/",
          "height": 34
        },
        "outputId": "8cc0d8f8-d498-432b-d91b-b9729af92497"
      },
      "source": [
        "! python --version"
      ],
      "execution_count": null,
      "outputs": [
        {
          "output_type": "stream",
          "text": [
            "Python 3.6.9\n"
          ],
          "name": "stdout"
        }
      ]
    },
    {
      "cell_type": "code",
      "metadata": {
        "id": "qH6gcOuDD0b3"
      },
      "source": [
        "class FC2Layer(nn.Module):\n",
        "    def __init__(self, input_size, n_hidden, output_size):\n",
        "        super(FC2Layer, self).__init__()\n",
        "        self.input_size = input_size\n",
        "        self.network = nn.Sequential(\n",
        "            nn.Linear(input_size, n_hidden), # Wx + b\n",
        "            nn.ReLU(),\n",
        "            nn.Linear(n_hidden, n_hidden),\n",
        "            nn.ReLU(),\n",
        "            nn.Linear(n_hidden, output_size), # B x 10 \n",
        "            nn.LogSoftmax(dim=-1)\n",
        "        )\n",
        "\n",
        "    def forward(self, x):\n",
        "        # B x 28 x 28 -> B x 28*28 \n",
        "        x = x.view(-1, self.input_size)\n",
        "        return self.network(x)\n",
        "    \n",
        "\n",
        "class CNN(nn.Module):\n",
        "    def __init__(self, input_size, n_feature, output_size):\n",
        "        super(CNN, self).__init__()\n",
        "        self.n_feature = n_feature\n",
        "        hidden_size = 25\n",
        "\n",
        "        self.conv1 = nn.Conv2d(in_channels=1,\n",
        "                               out_channels=n_feature,\n",
        "                               kernel_size=5)\n",
        "        \n",
        "        self.conv2 = nn.Conv2d(n_feature, n_feature, kernel_size=5)\n",
        "        self.fc1 = nn.Linear(16*n_feature, hidden_size)\n",
        "        self.fc2 = nn.Linear(hidden_size, output_size)\n",
        "\n",
        "    def forward(self, x, verbose=False):\n",
        "        x = self.conv1(x)\n",
        "        x = F.relu(x)\n",
        "        x = F.max_pool2d(x, kernel_size=2)\n",
        "        x = self.conv2(x)\n",
        "        x = F.relu(x)\n",
        "        x = F.max_pool2d(x, kernel_size=2)\n",
        "        ###\n",
        "        x = x.view(-1, self.n_feature*4*4)\n",
        "        x = self.fc1(x)\n",
        "        x = F.relu(x)\n",
        "        x = self.fc2(x)\n",
        "        x = F.log_softmax(x, dim=1)\n",
        "        return x"
      ],
      "execution_count": null,
      "outputs": []
    },
    {
      "cell_type": "code",
      "metadata": {
        "id": "-6YHpr53ZQaj",
        "colab": {
          "base_uri": "https://localhost:8080/",
          "height": 34
        },
        "outputId": "90fe55e7-57d3-402e-e000-09f9aabb25fd"
      },
      "source": [
        "CNN(784, 10, 10)(torch.randn(3, 1, 28, 28)).size() == FC2Layer(784, 10, 10)(torch.randn(3, 1, 28, 28)).size()"
      ],
      "execution_count": null,
      "outputs": [
        {
          "output_type": "execute_result",
          "data": {
            "text/plain": [
              "True"
            ]
          },
          "metadata": {
            "tags": []
          },
          "execution_count": 13
        }
      ]
    },
    {
      "cell_type": "markdown",
      "metadata": {
        "id": "3RlZxzY2D0b6"
      },
      "source": [
        "## Running on a GPU: device string\n",
        "\n",
        "Switching between CPU and GPU in PyTorch is controlled via a device string, which will seemlessly determine whether GPU is available, falling back to CPU if not:"
      ]
    },
    {
      "cell_type": "code",
      "metadata": {
        "id": "5J7S9LivD0b7"
      },
      "source": [
        "accuracy_list = []\n",
        "\n",
        "def train(epoch, model, perm=torch.arange(0, 784).long()):\n",
        "    model.train()\n",
        "    for batch_idx, (data, target) in enumerate(train_loader):\n",
        "        # send to device\n",
        "        data, target = data.to(device), target.to(device)\n",
        "        \n",
        "        # permute pixels\n",
        "        data = data.view(-1, 28*28)\n",
        "        data = data[:, perm]\n",
        "        data = data.view(-1, 1, 28, 28)\n",
        "\n",
        "        # TRAIN\n",
        "        optimizer.zero_grad()\n",
        "        output = model(data)\n",
        "        loss = F.nll_loss(output, target)\n",
        "        loss.backward()\n",
        "\n",
        "        # model.fc1.weights.data.grad \n",
        "        # w = w_prev + alpha* w_prev.grad\n",
        "        optimizer.step()\n",
        "\n",
        "        if batch_idx % 100 == 0:\n",
        "            print('Train Epoch: {} [{}/{} ({:.0f}%)]\\tLoss: {:.6f}'.format(\n",
        "                epoch, batch_idx * len(data), len(train_loader.dataset),\n",
        "                100. * batch_idx / len(train_loader), loss.item()))\n",
        "            \n",
        "\n",
        "@torch.no_grad()\n",
        "def test(model, perm=torch.arange(0, 784).long()):\n",
        "    model.eval()\n",
        "    test_loss = 0\n",
        "    correct = 0\n",
        "    for data, target in test_loader:\n",
        "        # send to device\n",
        "        data, target = data.to(device), target.to(device)\n",
        "        \n",
        "        # permute pixels\n",
        "        data = data.view(-1, 28*28)\n",
        "        data = data[:, perm]\n",
        "        data = data.view(-1, 1, 28, 28)\n",
        "        output = model(data)\n",
        "\n",
        "        test_loss += F.nll_loss(output, target, reduction='sum').item()\n",
        "        pred = output.data.max(-1, keepdim=True)[1] # get the index of the max log-probability                                                                 \n",
        "        correct += pred.eq(target.data.view_as(pred)).cpu().sum().item()\n",
        "\n",
        "    test_loss /= len(test_loader.dataset)\n",
        "    accuracy = 100. * correct / len(test_loader.dataset)\n",
        "    accuracy_list.append(accuracy)\n",
        "    print('\\nTest set: Average loss: {:.4f}, Accuracy: {}/{} ({:.0f}%)\\n'.format(\n",
        "        test_loss, correct, len(test_loader.dataset),\n",
        "        accuracy))"
      ],
      "execution_count": null,
      "outputs": []
    },
    {
      "cell_type": "markdown",
      "metadata": {
        "id": "Hvp-5tCVD0b9"
      },
      "source": [
        "# Train a small fully-connected network"
      ]
    },
    {
      "cell_type": "code",
      "metadata": {
        "id": "JwJrxZGtD0b9",
        "colab": {
          "base_uri": "https://localhost:8080/",
          "height": 476
        },
        "outputId": "06425bc8-6eb1-4ecc-eb64-b201c7fdff63"
      },
      "source": [
        "n_hidden = 8 # number of hidden units\n",
        "input_size=784\n",
        "output_size=10\n",
        "model_fnn = FC2Layer(input_size, n_hidden, output_size)\n",
        "model_fnn.to(device)\n",
        "optimizer = optim.SGD(model_fnn.parameters(), lr=0.01, momentum=0.5)\n",
        "\n",
        "print('Number of parameters: {}'.format(get_n_params(model_fnn)))\n",
        "max_epochs = 2\n",
        "for epoch in range(0, max_epochs):\n",
        "    train(epoch, model_fnn)\n",
        "    test(model_fnn)"
      ],
      "execution_count": null,
      "outputs": [
        {
          "output_type": "stream",
          "text": [
            "Number of parameters: 6442\n",
            "Train Epoch: 0 [0/60000 (0%)]\tLoss: 2.298956\n",
            "Train Epoch: 0 [6400/60000 (11%)]\tLoss: 1.565634\n",
            "Train Epoch: 0 [12800/60000 (21%)]\tLoss: 1.199664\n",
            "Train Epoch: 0 [19200/60000 (32%)]\tLoss: 0.693709\n",
            "Train Epoch: 0 [25600/60000 (43%)]\tLoss: 0.434409\n",
            "Train Epoch: 0 [32000/60000 (53%)]\tLoss: 0.312587\n",
            "Train Epoch: 0 [38400/60000 (64%)]\tLoss: 0.410852\n",
            "Train Epoch: 0 [44800/60000 (75%)]\tLoss: 0.364466\n",
            "Train Epoch: 0 [51200/60000 (85%)]\tLoss: 0.555566\n",
            "Train Epoch: 0 [57600/60000 (96%)]\tLoss: 0.606113\n",
            "\n",
            "Test set: Average loss: 0.3975, Accuracy: 8841/10000 (88%)\n",
            "\n",
            "Train Epoch: 1 [0/60000 (0%)]\tLoss: 0.219136\n",
            "Train Epoch: 1 [6400/60000 (11%)]\tLoss: 0.289427\n",
            "Train Epoch: 1 [12800/60000 (21%)]\tLoss: 0.409445\n",
            "Train Epoch: 1 [19200/60000 (32%)]\tLoss: 0.287616\n",
            "Train Epoch: 1 [25600/60000 (43%)]\tLoss: 0.361694\n",
            "Train Epoch: 1 [32000/60000 (53%)]\tLoss: 0.262043\n",
            "Train Epoch: 1 [38400/60000 (64%)]\tLoss: 0.321497\n",
            "Train Epoch: 1 [44800/60000 (75%)]\tLoss: 0.587095\n",
            "Train Epoch: 1 [51200/60000 (85%)]\tLoss: 0.329497\n",
            "Train Epoch: 1 [57600/60000 (96%)]\tLoss: 0.346530\n",
            "\n",
            "Test set: Average loss: 0.3348, Accuracy: 9051/10000 (91%)\n",
            "\n"
          ],
          "name": "stdout"
        }
      ]
    },
    {
      "cell_type": "markdown",
      "metadata": {
        "id": "AiCIl0SHD0cB"
      },
      "source": [
        "# Train a ConvNet with the same number of parameters"
      ]
    },
    {
      "cell_type": "code",
      "metadata": {
        "id": "lSTQ-aDXD0cB",
        "colab": {
          "base_uri": "https://localhost:8080/",
          "height": 476
        },
        "outputId": "652cb7f2-b9b1-46ef-be11-4ee7e4d880cb"
      },
      "source": [
        "# Training settings \n",
        "n_features = 6 # number of feature maps\n",
        "\n",
        "model_cnn = CNN(input_size, n_features, output_size)\n",
        "model_cnn.to(device)\n",
        "optimizer = optim.SGD(model_cnn.parameters(), lr=0.01, momentum=0.5)\n",
        "print('Number of parameters: {}'.format(get_n_params(model_cnn)))\n",
        "max_epochs = 2\n",
        "\n",
        "for epoch in range(0, max_epochs):\n",
        "    train(epoch, model_cnn)\n",
        "    test(model_cnn)"
      ],
      "execution_count": null,
      "outputs": [
        {
          "output_type": "stream",
          "text": [
            "Number of parameters: 3747\n",
            "Train Epoch: 0 [0/60000 (0%)]\tLoss: 2.325926\n",
            "Train Epoch: 0 [6400/60000 (11%)]\tLoss: 2.224575\n",
            "Train Epoch: 0 [12800/60000 (21%)]\tLoss: 1.038589\n",
            "Train Epoch: 0 [19200/60000 (32%)]\tLoss: 0.363047\n",
            "Train Epoch: 0 [25600/60000 (43%)]\tLoss: 0.320801\n",
            "Train Epoch: 0 [32000/60000 (53%)]\tLoss: 0.383068\n",
            "Train Epoch: 0 [38400/60000 (64%)]\tLoss: 0.344014\n",
            "Train Epoch: 0 [44800/60000 (75%)]\tLoss: 0.416144\n",
            "Train Epoch: 0 [51200/60000 (85%)]\tLoss: 0.163926\n",
            "Train Epoch: 0 [57600/60000 (96%)]\tLoss: 0.301394\n",
            "\n",
            "Test set: Average loss: 0.1833, Accuracy: 9432/10000 (94%)\n",
            "\n",
            "Train Epoch: 1 [0/60000 (0%)]\tLoss: 0.294507\n",
            "Train Epoch: 1 [6400/60000 (11%)]\tLoss: 0.224813\n",
            "Train Epoch: 1 [12800/60000 (21%)]\tLoss: 0.149603\n",
            "Train Epoch: 1 [19200/60000 (32%)]\tLoss: 0.119768\n",
            "Train Epoch: 1 [25600/60000 (43%)]\tLoss: 0.131156\n",
            "Train Epoch: 1 [32000/60000 (53%)]\tLoss: 0.087683\n",
            "Train Epoch: 1 [38400/60000 (64%)]\tLoss: 0.193000\n",
            "Train Epoch: 1 [44800/60000 (75%)]\tLoss: 0.169889\n",
            "Train Epoch: 1 [51200/60000 (85%)]\tLoss: 0.218284\n",
            "Train Epoch: 1 [57600/60000 (96%)]\tLoss: 0.190484\n",
            "\n",
            "Test set: Average loss: 0.1331, Accuracy: 9564/10000 (96%)\n",
            "\n"
          ],
          "name": "stdout"
        }
      ]
    },
    {
      "cell_type": "markdown",
      "metadata": {
        "id": "8H6ZRI9wD0cD"
      },
      "source": [
        "# The ConvNet performs better with the same number of parameters, thanks to its use of prior knowledge about images\n",
        "Благодаря использованию сверточных сетей мы получаем качество значительно лучше, но почему это происходит? Мы изначально заложили в свертки гипотезу о локльности (схожие пиксели находятся рядом друг с другом)\n",
        "\n",
        "# Эксперимент: что если эта гипотеза не выполняется? \n"
      ]
    },
    {
      "cell_type": "code",
      "metadata": {
        "id": "L0X4D4BrfpvU"
      },
      "source": [
        "perm = torch.randperm(784)\n"
      ],
      "execution_count": null,
      "outputs": []
    },
    {
      "cell_type": "code",
      "metadata": {
        "id": "ExZwjvIwD0cE",
        "colab": {
          "base_uri": "https://localhost:8080/",
          "height": 683
        },
        "outputId": "64b3c0b9-a7d9-49c8-d757-8c89df1ceecb"
      },
      "source": [
        "plt.figure(figsize=(16, 12))\n",
        "for i in range(10):\n",
        "    image, _ = train_loader.dataset.__getitem__(i)\n",
        "    # permute pixels\n",
        "    image_perm = image.view(-1, 28*28).clone()\n",
        "    image_perm = image_perm[:, perm]\n",
        "    image_perm = image_perm.view(-1, 1, 28, 28)\n",
        "    plt.subplot(4, 5, i + 1)\n",
        "    plt.imshow(image.squeeze().numpy())\n",
        "    plt.axis('off')\n",
        "    plt.subplot(4, 5, i + 11)\n",
        "    plt.imshow(image_perm.squeeze().numpy())\n",
        "    plt.axis('off')"
      ],
      "execution_count": null,
      "outputs": [
        {
          "output_type": "display_data",
          "data": {
            "image/png": "[encoded data removed]",
            "text/plain": [
              "<Figure size 1152x864 with 20 Axes>"
            ]
          },
          "metadata": {
            "tags": [],
            "needs_background": "light"
          }
        }
      ]
    },
    {
      "cell_type": "markdown",
      "metadata": {
        "id": "8645WUzKD0cG"
      },
      "source": [
        "# ConvNet with permuted pixels"
      ]
    },
    {
      "cell_type": "code",
      "metadata": {
        "id": "uZxXauLOD0cG",
        "colab": {
          "base_uri": "https://localhost:8080/",
          "height": 476
        },
        "outputId": "34dea8b7-25e8-43e2-ca46-d2e30ba16f3a"
      },
      "source": [
        "# Training settings \n",
        "n_features = 6 # number of feature maps\n",
        "\n",
        "model_cnn = CNN(input_size, n_features, output_size)\n",
        "model_cnn.to(device)\n",
        "optimizer = optim.SGD(model_cnn.parameters(), lr=0.01, momentum=0.5)\n",
        "print('Number of parameters: {}'.format(get_n_params(model_cnn)))\n",
        "max_epochs = 2\n",
        "\n",
        "for epoch in range(max_epochs):\n",
        "    train(epoch, model_cnn, perm)\n",
        "    test(model_cnn, perm)"
      ],
      "execution_count": null,
      "outputs": [
        {
          "output_type": "stream",
          "text": [
            "Number of parameters: 3747\n",
            "Train Epoch: 0 [0/60000 (0%)]\tLoss: 2.312147\n",
            "Train Epoch: 0 [6400/60000 (11%)]\tLoss: 2.254741\n",
            "Train Epoch: 0 [12800/60000 (21%)]\tLoss: 2.149557\n",
            "Train Epoch: 0 [19200/60000 (32%)]\tLoss: 1.815868\n",
            "Train Epoch: 0 [25600/60000 (43%)]\tLoss: 1.597029\n",
            "Train Epoch: 0 [32000/60000 (53%)]\tLoss: 1.493571\n",
            "Train Epoch: 0 [38400/60000 (64%)]\tLoss: 1.071556\n",
            "Train Epoch: 0 [44800/60000 (75%)]\tLoss: 0.709387\n",
            "Train Epoch: 0 [51200/60000 (85%)]\tLoss: 0.964937\n",
            "Train Epoch: 0 [57600/60000 (96%)]\tLoss: 0.726995\n",
            "\n",
            "Test set: Average loss: 0.6741, Accuracy: 7812/10000 (78%)\n",
            "\n",
            "Train Epoch: 1 [0/60000 (0%)]\tLoss: 0.695981\n",
            "Train Epoch: 1 [6400/60000 (11%)]\tLoss: 0.463446\n",
            "Train Epoch: 1 [12800/60000 (21%)]\tLoss: 0.597682\n",
            "Train Epoch: 1 [19200/60000 (32%)]\tLoss: 0.397416\n",
            "Train Epoch: 1 [25600/60000 (43%)]\tLoss: 0.299709\n",
            "Train Epoch: 1 [32000/60000 (53%)]\tLoss: 0.352011\n",
            "Train Epoch: 1 [38400/60000 (64%)]\tLoss: 0.328488\n",
            "Train Epoch: 1 [44800/60000 (75%)]\tLoss: 0.433946\n",
            "Train Epoch: 1 [51200/60000 (85%)]\tLoss: 0.295422\n",
            "Train Epoch: 1 [57600/60000 (96%)]\tLoss: 0.470881\n",
            "\n",
            "Test set: Average loss: 0.4072, Accuracy: 8734/10000 (87%)\n",
            "\n"
          ],
          "name": "stdout"
        }
      ]
    },
    {
      "cell_type": "markdown",
      "metadata": {
        "id": "hlwtPu7lD0cJ"
      },
      "source": [
        "# Fully-Connected with Permuted Pixels"
      ]
    },
    {
      "cell_type": "code",
      "metadata": {
        "id": "q4ql_JwQD0cJ",
        "colab": {
          "base_uri": "https://localhost:8080/",
          "height": 476
        },
        "outputId": "0277e098-e404-4291-ab75-42968e7d0851"
      },
      "source": [
        "n_hidden = 8 # number of hidden units\n",
        "input_size=784\n",
        "output_size=10\n",
        "model_fnn = FC2Layer(input_size, n_hidden, output_size)\n",
        "model_fnn.to(device)\n",
        "optimizer = optim.SGD(model_fnn.parameters(), lr=0.01, momentum=0.5)\n",
        "print('Number of parameters: {}'.format(get_n_params(model_fnn)))\n",
        "\n",
        "for epoch in range(max_epochs):\n",
        "    train(epoch, model_fnn, perm)\n",
        "    test(model_fnn, perm)"
      ],
      "execution_count": null,
      "outputs": [
        {
          "output_type": "stream",
          "text": [
            "Number of parameters: 6442\n",
            "Train Epoch: 0 [0/60000 (0%)]\tLoss: 2.303867\n",
            "Train Epoch: 0 [6400/60000 (11%)]\tLoss: 1.641740\n",
            "Train Epoch: 0 [12800/60000 (21%)]\tLoss: 1.286576\n",
            "Train Epoch: 0 [19200/60000 (32%)]\tLoss: 0.942272\n",
            "Train Epoch: 0 [25600/60000 (43%)]\tLoss: 0.549672\n",
            "Train Epoch: 0 [32000/60000 (53%)]\tLoss: 0.440537\n",
            "Train Epoch: 0 [38400/60000 (64%)]\tLoss: 0.391334\n",
            "Train Epoch: 0 [44800/60000 (75%)]\tLoss: 0.400791\n",
            "Train Epoch: 0 [51200/60000 (85%)]\tLoss: 0.531044\n",
            "Train Epoch: 0 [57600/60000 (96%)]\tLoss: 0.550906\n",
            "\n",
            "Test set: Average loss: 0.3840, Accuracy: 8895/10000 (89%)\n",
            "\n",
            "Train Epoch: 1 [0/60000 (0%)]\tLoss: 0.678375\n",
            "Train Epoch: 1 [6400/60000 (11%)]\tLoss: 0.372831\n",
            "Train Epoch: 1 [12800/60000 (21%)]\tLoss: 0.214754\n",
            "Train Epoch: 1 [19200/60000 (32%)]\tLoss: 0.331933\n",
            "Train Epoch: 1 [25600/60000 (43%)]\tLoss: 0.308686\n",
            "Train Epoch: 1 [32000/60000 (53%)]\tLoss: 0.252702\n",
            "Train Epoch: 1 [38400/60000 (64%)]\tLoss: 0.185700\n",
            "Train Epoch: 1 [44800/60000 (75%)]\tLoss: 0.429380\n",
            "Train Epoch: 1 [51200/60000 (85%)]\tLoss: 0.263599\n",
            "Train Epoch: 1 [57600/60000 (96%)]\tLoss: 0.330883\n",
            "\n",
            "Test set: Average loss: 0.3082, Accuracy: 9123/10000 (91%)\n",
            "\n"
          ],
          "name": "stdout"
        }
      ]
    },
    {
      "cell_type": "markdown",
      "metadata": {
        "id": "1YHLDwKOD0cL"
      },
      "source": [
        "### The ConvNet's performance drops when we permute the pixels, but the Fully-Connected Network's performance stays the same"
      ]
    },
    {
      "cell_type": "code",
      "metadata": {
        "id": "qb5_HpZED0cM",
        "colab": {
          "base_uri": "https://localhost:8080/",
          "height": 281
        },
        "outputId": "9ab13ee5-32be-4312-9001-07fadf6a3c19"
      },
      "source": [
        "plt.bar(('NN image', 'CNN image',\n",
        "         'CNN scrambled', 'NN scrambled'),\n",
        "        accuracy_list[-8::2], width=0.4)\n",
        "plt.ylim((min(accuracy_list[-8::2])-5, 96))\n",
        "plt.ylabel('Accuracy [%]')\n",
        "for tick in plt.gca().xaxis.get_major_ticks():\n",
        "    tick.label.set_fontsize(10)\n",
        "plt.title('Performance comparison');"
      ],
      "execution_count": null,
      "outputs": [
        {
          "output_type": "display_data",
          "data": {
            "image/png": "[encoded data removed]",
            "text/plain": [
              "<Figure size 432x288 with 1 Axes>"
            ]
          },
          "metadata": {
            "tags": [],
            "needs_background": "light"
          }
        }
      ]
    },
    {
      "cell_type": "code",
      "metadata": {
        "id": "mjp2WORSHtpA"
      },
      "source": [
        ""
      ],
      "execution_count": null,
      "outputs": []
    }
  ]
}