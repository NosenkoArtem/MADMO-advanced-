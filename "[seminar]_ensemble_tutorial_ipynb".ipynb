{
  "nbformat": 4,
  "nbformat_minor": 0,
  "metadata": {
    "kernelspec": {
      "display_name": "Python [conda env:anaconda3]",
      "language": "python",
      "name": "conda-env-anaconda3-py"
    },
    "language_info": {
      "codemirror_mode": {
        "name": "ipython",
        "version": 3
      },
      "file_extension": ".py",
      "mimetype": "text/x-python",
      "name": "python",
      "nbconvert_exporter": "python",
      "pygments_lexer": "ipython3",
      "version": "3.6.6"
    },
    "colab": {
      "name": "Копия блокнота \"[seminar]_ensemble_tutorial.ipynb\"",
      "provenance": [],
      "collapsed_sections": [],
      "include_colab_link": true
    }
  },
  "cells": [
    {
      "cell_type": "markdown",
      "metadata": {
        "id": "view-in-github",
        "colab_type": "text"
      },
      "source": [
        "<a href=\"https://colab.research.google.com/github/NosenkoArtem/MADMO-advanced-/blob/master/%22%5Bseminar%5D_ensemble_tutorial_ipynb%22.ipynb\" target=\"_parent\"><img src=\"https://colab.research.google.com/assets/colab-badge.svg\" alt=\"Open In Colab\"/></a>"
      ]
    },
    {
      "cell_type": "code",
      "metadata": {
        "id": "foEb7v_QMwF2",
        "colab_type": "code",
        "colab": {}
      },
      "source": [
        "import pandas as pd\n",
        "import numpy as np\n",
        "from sklearn.preprocessing import StandardScaler\n",
        "from sklearn.model_selection import GridSearchCV\n",
        "from sklearn.neighbors import KNeighborsClassifier\n",
        "from sklearn.ensemble import VotingClassifier, RandomForestClassifier\n",
        "from sklearn.linear_model import LogisticRegression\n",
        "from sklearn.svm import SVC\n",
        "from sklearn.pipeline import Pipeline\n",
        "from sklearn.model_selection import train_test_split"
      ],
      "execution_count": null,
      "outputs": []
    },
    {
      "cell_type": "code",
      "metadata": {
        "id": "GhQbRdxXMwGA",
        "colab_type": "code",
        "colab": {
          "base_uri": "https://localhost:8080/",
          "height": 197
        },
        "outputId": "dfa9de05-ef5e-4416-a229-df29e5b0b497"
      },
      "source": [
        "#read in the dataset\n",
        "df = pd.read_csv('diabetes_data.csv')\n",
        "\n",
        "#take a look at the data\n",
        "df.head(5)"
      ],
      "execution_count": null,
      "outputs": [
        {
          "output_type": "execute_result",
          "data": {
            "text/html": [
              "<div>\n",
              "<style scoped>\n",
              "    .dataframe tbody tr th:only-of-type {\n",
              "        vertical-align: middle;\n",
              "    }\n",
              "\n",
              "    .dataframe tbody tr th {\n",
              "        vertical-align: top;\n",
              "    }\n",
              "\n",
              "    .dataframe thead th {\n",
              "        text-align: right;\n",
              "    }\n",
              "</style>\n",
              "<table border=\"1\" class=\"dataframe\">\n",
              "  <thead>\n",
              "    <tr style=\"text-align: right;\">\n",
              "      <th></th>\n",
              "      <th>pregnancies</th>\n",
              "      <th>glucose</th>\n",
              "      <th>diastolic</th>\n",
              "      <th>triceps</th>\n",
              "      <th>insulin</th>\n",
              "      <th>bmi</th>\n",
              "      <th>dpf</th>\n",
              "      <th>age</th>\n",
              "      <th>diabetes</th>\n",
              "    </tr>\n",
              "  </thead>\n",
              "  <tbody>\n",
              "    <tr>\n",
              "      <th>0</th>\n",
              "      <td>6</td>\n",
              "      <td>148</td>\n",
              "      <td>72</td>\n",
              "      <td>35</td>\n",
              "      <td>0</td>\n",
              "      <td>33.6</td>\n",
              "      <td>0.627</td>\n",
              "      <td>50</td>\n",
              "      <td>1</td>\n",
              "    </tr>\n",
              "    <tr>\n",
              "      <th>1</th>\n",
              "      <td>1</td>\n",
              "      <td>85</td>\n",
              "      <td>66</td>\n",
              "      <td>29</td>\n",
              "      <td>0</td>\n",
              "      <td>26.6</td>\n",
              "      <td>0.351</td>\n",
              "      <td>31</td>\n",
              "      <td>0</td>\n",
              "    </tr>\n",
              "    <tr>\n",
              "      <th>2</th>\n",
              "      <td>8</td>\n",
              "      <td>183</td>\n",
              "      <td>64</td>\n",
              "      <td>0</td>\n",
              "      <td>0</td>\n",
              "      <td>23.3</td>\n",
              "      <td>0.672</td>\n",
              "      <td>32</td>\n",
              "      <td>1</td>\n",
              "    </tr>\n",
              "    <tr>\n",
              "      <th>3</th>\n",
              "      <td>1</td>\n",
              "      <td>89</td>\n",
              "      <td>66</td>\n",
              "      <td>23</td>\n",
              "      <td>94</td>\n",
              "      <td>28.1</td>\n",
              "      <td>0.167</td>\n",
              "      <td>21</td>\n",
              "      <td>0</td>\n",
              "    </tr>\n",
              "    <tr>\n",
              "      <th>4</th>\n",
              "      <td>0</td>\n",
              "      <td>137</td>\n",
              "      <td>40</td>\n",
              "      <td>35</td>\n",
              "      <td>168</td>\n",
              "      <td>43.1</td>\n",
              "      <td>2.288</td>\n",
              "      <td>33</td>\n",
              "      <td>1</td>\n",
              "    </tr>\n",
              "  </tbody>\n",
              "</table>\n",
              "</div>"
            ],
            "text/plain": [
              "   pregnancies  glucose  diastolic  triceps  ...   bmi    dpf  age  diabetes\n",
              "0            6      148         72       35  ...  33.6  0.627   50         1\n",
              "1            1       85         66       29  ...  26.6  0.351   31         0\n",
              "2            8      183         64        0  ...  23.3  0.672   32         1\n",
              "3            1       89         66       23  ...  28.1  0.167   21         0\n",
              "4            0      137         40       35  ...  43.1  2.288   33         1\n",
              "\n",
              "[5 rows x 9 columns]"
            ]
          },
          "metadata": {
            "tags": []
          },
          "execution_count": 180
        }
      ]
    },
    {
      "cell_type": "code",
      "metadata": {
        "id": "Zn_r_xWHMwGH",
        "colab_type": "code",
        "colab": {}
      },
      "source": [
        "#split data into inputs and targets\n",
        "X = df.drop(columns = ['diabetes'])\n",
        "y = df['diabetes']"
      ],
      "execution_count": null,
      "outputs": []
    },
    {
      "cell_type": "code",
      "metadata": {
        "id": "454RCfffMwGP",
        "colab_type": "code",
        "colab": {
          "base_uri": "https://localhost:8080/",
          "height": 1000
        },
        "outputId": "c7f0647e-116a-4c9f-a1cc-96c1166068bb"
      },
      "source": [
        "score_knn, score_rf, score_svm, score_log_reg = [], [], [], []\n",
        "score_ensemble = []\n",
        "for seed in range(10):\n",
        "  #split data into train and test sets\n",
        "  X_train, X_test, y_train, y_test = train_test_split(X, y, test_size=0.5, \n",
        "                                                    stratify=y, random_state=seed)\n",
        "\n",
        "  #create new a knn model\n",
        "  knn = KNeighborsClassifier()\n",
        "  #create a dictionary of all values we want to test for n_neighbors\n",
        "  params_knn = {'n_neighbors': np.arange(1, 50)}\n",
        "  #use gridsearch to test all values for n_neighbors\n",
        "  knn_gs = GridSearchCV(knn, params_knn, cv=5)\n",
        "  #fit model to training data\n",
        "  knn_gs.fit(X_train, y_train)\n",
        "  #save best model\n",
        "  knn_best = knn_gs.best_estimator_\n",
        "  #check best n_neigbors value\n",
        "  # print(knn_gs.best_params_)\n",
        "\n",
        "  #create a new rf classifier\n",
        "  rf = RandomForestClassifier()\n",
        "  #create a dictionary of all values we want to test for n_estimators\n",
        "  params_rf = {'n_estimators': [10, 50, 100, 200, 250]}\n",
        "  #use gridsearch to test all values for n_estimators\n",
        "  rf_gs = GridSearchCV(rf, params_rf, cv=5)\n",
        "  #fit model to training data\n",
        "  rf_gs.fit(X_train, y_train)\n",
        "  #save best model\n",
        "  rf_best = rf_gs.best_estimator_\n",
        "  #check best n_estimators value\n",
        "  # print(rf_gs.best_params_)\n",
        "\n",
        "  #create a new SVM model\n",
        "  pipeline = Pipeline([('scaler', StandardScaler()), ('svc', SVC(max_iter=1e6, probability=True))])\n",
        "  #create a dictionary of all values we want to test for n_estimators\n",
        "  params_svm = {'svc__kernel' : ['linear', 'poly', 'rbf', 'sigmoid'],\n",
        "               'svc__C' : np.logspace(-1, 2, 10)}\n",
        "  #use gridsearch to test all values for n_estimators           \n",
        "  svm_gs = GridSearchCV(pipeline, params_svm, cv=5)\n",
        "  #fit the model to the training data\n",
        "  svm_gs.fit(X_train, y_train)\n",
        "  #save best model\n",
        "  svm_best = svm_gs.best_estimator_\n",
        "  #check best n_estimators value\n",
        "  print(svm_gs.best_params_)\n",
        "\n",
        "  #create a new log-reg model\n",
        "  log_reg = LogisticRegression(max_iter=1e5)\n",
        "\n",
        "  #fit the model to the training data\n",
        "  log_reg.fit(X_train, y_train)\n",
        "\n",
        "  #test the four models with the test data and print their accuracy scores  \n",
        "  score_knn.append(knn_best.score(X_test, y_test))\n",
        "  score_rf.append(rf_best.score(X_test, y_test))\n",
        "  score_svm.append(svm_best.score(X_test, y_test))\n",
        "  score_log_reg.append(log_reg.score(X_test, y_test))\n",
        "\n",
        "  print('knn: {}'.format(knn_best.score(X_test, y_test)))\n",
        "  print('rf: {}'.format(rf_best.score(X_test, y_test)))\n",
        "  print('svm: {}'.format(svm_best.score(X_test, y_test)))\n",
        "  print('log_reg: {}'.format(log_reg.score(X_test, y_test)))\n",
        "\n",
        "  #create a list of our models\n",
        "  estimators=[('rf', rf_best), ('svm', svm_best ), ('log_reg', log_reg)]\n",
        "  #create our voting classifier, inputting our models\n",
        "  ensemble = VotingClassifier(estimators, voting='soft')\n",
        "  #fit model to training data\n",
        "  ensemble.fit(X_train, y_train)\n",
        "  score_ensemble.append(ensemble.score(X_test, y_test))"
      ],
      "execution_count": null,
      "outputs": [
        {
          "output_type": "stream",
          "text": [
            "/usr/local/lib/python3.6/dist-packages/sklearn/svm/_base.py:231: ConvergenceWarning: Solver terminated early (max_iter=1000000).  Consider pre-processing your data with StandardScaler or MinMaxScaler.\n",
            "  % self.max_iter, ConvergenceWarning)\n"
          ],
          "name": "stderr"
        },
        {
          "output_type": "stream",
          "text": [
            "{'svc__C': 0.46415888336127786, 'svc__kernel': 'sigmoid'}\n",
            "knn: 0.71875\n",
            "rf: 0.7708333333333334\n",
            "svm: 0.765625\n",
            "log_reg: 0.7734375\n"
          ],
          "name": "stdout"
        },
        {
          "output_type": "stream",
          "text": [
            "/usr/local/lib/python3.6/dist-packages/sklearn/svm/_base.py:231: ConvergenceWarning: Solver terminated early (max_iter=1000000).  Consider pre-processing your data with StandardScaler or MinMaxScaler.\n",
            "  % self.max_iter, ConvergenceWarning)\n"
          ],
          "name": "stderr"
        },
        {
          "output_type": "stream",
          "text": [
            "{'svc__C': 0.46415888336127786, 'svc__kernel': 'rbf'}\n",
            "knn: 0.7083333333333334\n",
            "rf: 0.7395833333333334\n",
            "svm: 0.7265625\n",
            "log_reg: 0.7369791666666666\n"
          ],
          "name": "stdout"
        },
        {
          "output_type": "stream",
          "text": [
            "/usr/local/lib/python3.6/dist-packages/sklearn/svm/_base.py:231: ConvergenceWarning: Solver terminated early (max_iter=1000000).  Consider pre-processing your data with StandardScaler or MinMaxScaler.\n",
            "  % self.max_iter, ConvergenceWarning)\n"
          ],
          "name": "stderr"
        },
        {
          "output_type": "stream",
          "text": [
            "{'svc__C': 0.1, 'svc__kernel': 'linear'}\n",
            "knn: 0.7239583333333334\n",
            "rf: 0.734375\n",
            "svm: 0.7682291666666666\n",
            "log_reg: 0.7760416666666666\n",
            "{'svc__C': 0.1, 'svc__kernel': 'linear'}\n",
            "knn: 0.7630208333333334\n",
            "rf: 0.7447916666666666\n",
            "svm: 0.7682291666666666\n",
            "log_reg: 0.765625\n",
            "{'svc__C': 0.21544346900318834, 'svc__kernel': 'rbf'}\n",
            "knn: 0.6979166666666666\n",
            "rf: 0.7005208333333334\n",
            "svm: 0.7395833333333334\n",
            "log_reg: 0.7578125\n"
          ],
          "name": "stdout"
        },
        {
          "output_type": "stream",
          "text": [
            "/usr/local/lib/python3.6/dist-packages/sklearn/svm/_base.py:231: ConvergenceWarning: Solver terminated early (max_iter=1000000).  Consider pre-processing your data with StandardScaler or MinMaxScaler.\n",
            "  % self.max_iter, ConvergenceWarning)\n"
          ],
          "name": "stderr"
        },
        {
          "output_type": "stream",
          "text": [
            "{'svc__C': 2.1544346900318834, 'svc__kernel': 'linear'}\n",
            "knn: 0.75\n",
            "rf: 0.7552083333333334\n",
            "svm: 0.78125\n",
            "log_reg: 0.7760416666666666\n"
          ],
          "name": "stdout"
        },
        {
          "output_type": "stream",
          "text": [
            "/usr/local/lib/python3.6/dist-packages/sklearn/svm/_base.py:231: ConvergenceWarning: Solver terminated early (max_iter=1000000).  Consider pre-processing your data with StandardScaler or MinMaxScaler.\n",
            "  % self.max_iter, ConvergenceWarning)\n"
          ],
          "name": "stderr"
        },
        {
          "output_type": "stream",
          "text": [
            "{'svc__C': 2.1544346900318834, 'svc__kernel': 'rbf'}\n",
            "knn: 0.7526041666666666\n",
            "rf: 0.7447916666666666\n",
            "svm: 0.7447916666666666\n",
            "log_reg: 0.7838541666666666\n",
            "{'svc__C': 0.1, 'svc__kernel': 'linear'}\n",
            "knn: 0.7239583333333334\n",
            "rf: 0.7552083333333334\n",
            "svm: 0.75\n",
            "log_reg: 0.7552083333333334\n"
          ],
          "name": "stdout"
        },
        {
          "output_type": "stream",
          "text": [
            "/usr/local/lib/python3.6/dist-packages/sklearn/svm/_base.py:231: ConvergenceWarning: Solver terminated early (max_iter=1000000).  Consider pre-processing your data with StandardScaler or MinMaxScaler.\n",
            "  % self.max_iter, ConvergenceWarning)\n"
          ],
          "name": "stderr"
        },
        {
          "output_type": "stream",
          "text": [
            "{'svc__C': 0.21544346900318834, 'svc__kernel': 'linear'}\n",
            "knn: 0.7291666666666666\n",
            "rf: 0.7057291666666666\n",
            "svm: 0.7630208333333334\n",
            "log_reg: 0.7604166666666666\n"
          ],
          "name": "stdout"
        },
        {
          "output_type": "stream",
          "text": [
            "/usr/local/lib/python3.6/dist-packages/sklearn/svm/_base.py:231: ConvergenceWarning: Solver terminated early (max_iter=1000000).  Consider pre-processing your data with StandardScaler or MinMaxScaler.\n",
            "  % self.max_iter, ConvergenceWarning)\n"
          ],
          "name": "stderr"
        },
        {
          "output_type": "stream",
          "text": [
            "{'svc__C': 2.1544346900318834, 'svc__kernel': 'rbf'}\n",
            "knn: 0.7239583333333334\n",
            "rf: 0.7734375\n",
            "svm: 0.7369791666666666\n",
            "log_reg: 0.7578125\n"
          ],
          "name": "stdout"
        }
      ]
    },
    {
      "cell_type": "code",
      "metadata": {
        "id": "0Hu4gSj6o6pr",
        "colab_type": "code",
        "colab": {
          "base_uri": "https://localhost:8080/",
          "height": 100
        },
        "outputId": "7660ca73-b93f-4dae-9b14-27e737efdb46"
      },
      "source": [
        "print('knn score mean+/-std: {:.2f}+/-{:.2f}'.format(np.mean(score_knn), np.std(score_knn)))\n",
        "print('Log reg score mean+/-std: {:.2f}+/-{:.2f}'.format(np.mean(score_log_reg), np.std(score_log_reg)))\n",
        "print('svm score mean+/-std: {:.2f}+/-{:.2f}'.format(np.mean(score_svm), np.std(score_svm)))\n",
        "print('rf score mean+/-std: {:.2f}+/-{:.2f}'.format(np.mean(score_rf), np.std(score_rf)))\n",
        "print('ensemble score mean+/-std: {:.2f}+/-{:.2f}'.format(np.mean(score_ensemble), np.std(score_ensemble)))"
      ],
      "execution_count": null,
      "outputs": [
        {
          "output_type": "stream",
          "text": [
            "knn score mean+/-std: 0.73+/-0.02\n",
            "Log reg score mean+/-std: 0.76+/-0.01\n",
            "svm score mean+/-std: 0.75+/-0.02\n",
            "rf score mean+/-std: 0.74+/-0.02\n",
            "ensemble score mean+/-std: 0.77+/-0.01\n"
          ],
          "name": "stdout"
        }
      ]
    }
  ]
}