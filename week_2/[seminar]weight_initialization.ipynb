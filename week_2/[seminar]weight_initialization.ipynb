{
  "nbformat": 4,
  "nbformat_minor": 0,
  "metadata": {
    "anaconda-cloud": {},
    "kernelspec": {
      "display_name": "Python [default]",
      "language": "python",
      "name": "python3"
    },
    "language_info": {
      "codemirror_mode": {
        "name": "ipython",
        "version": 3
      },
      "file_extension": ".py",
      "mimetype": "text/x-python",
      "name": "python",
      "nbconvert_exporter": "python",
      "pygments_lexer": "ipython3",
      "version": "3.6.4"
    },
    "colab": {
      "name": "\"[seminar]weight_initialization.ipynb\"",
      "provenance": [],
      "collapsed_sections": [],
      "include_colab_link": true
    },
    "accelerator": "GPU"
  },
  "cells": [
    {
      "cell_type": "markdown",
      "metadata": {
        "id": "view-in-github",
        "colab_type": "text"
      },
      "source": [
        "<a href=\"https://colab.research.google.com/github/NosenkoArtem/MADMO-advanced-/blob/master/week_2/%5Bseminar%5Dweight_initialization.ipynb\" target=\"_parent\"><img src=\"https://colab.research.google.com/assets/colab-badge.svg\" alt=\"Open In Colab\"/></a>"
      ]
    },
    {
      "cell_type": "markdown",
      "metadata": {
        "id": "kpO0-LSGIac0"
      },
      "source": [
        "# Weight Initialization\n",
        "На этом уроке вы узнаете, как найти хорошие начальные веса для нейронной сети. И запустить обучаться свою нейросеть. \n",
        "Инициализация веса происходит один раз, когда модель создана и до того, как она тренируется.\n",
        "Имея хорошие начальные веса, можно расположить нейронную сеть близко к оптимальному решению.\n",
        "Это позволяет нейронной сети быстрее прийти к наилучшему решению.\n",
        "\n",
        "\n",
        "## Initial Weights and Observing Training Loss\n",
        "\n",
        "Чтобы увидеть, как работают различные веса, мы протестируем один и тот же набор данных и нейронную сеть. Таким образом, мы знаем, что любые изменения в поведении модели происходят из-за весов, а не из-за каких-либо изменений данных или структуры модели. \n",
        "\n",
        "\n",
        "Иногда разница в потере тренировки, с течением времени, будет большой и другие времена, некоторые веса предлагают только небольшие улучшения.\n",
        "### Dataset and Model\n",
        "\n",
        "Мы обучим MLP классифицировать изображения из базы данных [Fashion-MNIST] (https://github.com/zalandoresearch/fashion-mnist) для демонстрации эффекта различных начальных Весов. Напомним, что набор данных FashionMNIST содержит изображения типов одежды; ' classes = ['футболка / топ', 'брюки', 'пуловер', 'платье', 'пальто', 'сандалии', 'рубашка', 'кроссовки', 'сумка',`ботильоны']'. Изображения нормализуются таким образом, чтобы их пиксельные значения находились в диапазоне [0.0 - 1.0).  Запустите ячейку ниже,чтобы загрузить и загрузить набор данных.\n",
        "\n"
      ]
    },
    {
      "cell_type": "markdown",
      "metadata": {
        "id": "2Pl7r9RDIac1"
      },
      "source": [
        "### Import Libraries and Load [Data](http://pytorch.org/docs/stable/torchvision/datasets.html)"
      ]
    },
    {
      "cell_type": "code",
      "metadata": {
        "id": "8xNOEfk7Iac2"
      },
      "source": [
        "import torch\n",
        "import numpy as np\n",
        "from torchvision import datasets\n",
        "import torchvision.transforms as transforms\n",
        "from torch.utils.data.sampler import SubsetRandomSampler\n",
        "\n",
        "# number of subprocesses to use for data loading\n",
        "num_workers = 0\n",
        "# how many samples per batch to load\n",
        "batch_size = 100\n",
        "# percentage of training set to use as validation\n",
        "valid_size = 0.2\n",
        "\n",
        "# convert data to torch.FloatTensor\n",
        "transform = transforms.ToTensor()\n",
        "\n",
        "# choose the training and test datasets\n",
        "train_data = datasets.FashionMNIST(root='data', train=True,\n",
        "                                   download=True, transform=transform)\n",
        "test_data = datasets.FashionMNIST(root='data', train=False,\n",
        "                                  download=True, transform=transform)\n",
        "\n",
        "# obtain training indices that will be used for validation\n",
        "num_train = len(train_data)\n",
        "indices = list(range(num_train))\n",
        "np.random.shuffle(indices)\n",
        "split = int(np.floor(valid_size * num_train))\n",
        "train_idx, valid_idx = indices[split:], indices[:split]\n",
        "\n",
        "# define samplers for obtaining training and validation batches\n",
        "train_sampler = SubsetRandomSampler(train_idx)\n",
        "valid_sampler = SubsetRandomSampler(valid_idx)\n",
        "\n",
        "# prepare data loaders (combine dataset and sampler)\n",
        "train_loader = torch.utils.data.DataLoader(train_data, batch_size=batch_size,\n",
        "    sampler=train_sampler, num_workers=num_workers)\n",
        "valid_loader = torch.utils.data.DataLoader(train_data, batch_size=batch_size, \n",
        "    sampler=valid_sampler, num_workers=num_workers)\n",
        "test_loader = torch.utils.data.DataLoader(test_data, batch_size=batch_size, \n",
        "    num_workers=num_workers)\n",
        "\n",
        "# specify the image classes\n",
        "classes = ['T-shirt/top', 'Trouser', 'Pullover', 'Dress', 'Coat', \n",
        "    'Sandal', 'Shirt', 'Sneaker', 'Bag', 'Ankle boot']"
      ],
      "execution_count": null,
      "outputs": []
    },
    {
      "cell_type": "markdown",
      "metadata": {
        "id": "VtSyj5oPIadP"
      },
      "source": [
        "### Visualize Some Training Data"
      ]
    },
    {
      "cell_type": "code",
      "metadata": {
        "id": "G4_Xhj00IadP",
        "colab": {
          "base_uri": "https://localhost:8080/",
          "height": 249
        },
        "outputId": "b0d39642-5f32-43db-e80a-d81df4c8d5f5"
      },
      "source": [
        "import matplotlib.pyplot as plt\n",
        "%matplotlib inline\n",
        "    \n",
        "# obtain one batch of training images\n",
        "dataiter = iter(train_loader)\n",
        "images, labels = dataiter.next()\n",
        "images = images.numpy()\n",
        "\n",
        "# plot the images in the batch, along with the corresponding labels\n",
        "fig = plt.figure(figsize=(25, 4))\n",
        "for idx in np.arange(20):\n",
        "    ax = fig.add_subplot(2, 20/2, idx+1, xticks=[], yticks=[])\n",
        "    ax.imshow(np.squeeze(images[idx]), cmap='gray')\n",
        "    ax.set_title(classes[labels[idx]])"
      ],
      "execution_count": null,
      "outputs": [
        {
          "output_type": "display_data",
          "data": {
            "image/png": "[encoded data removed]",
            "text/plain": [
              "<Figure size 1800x288 with 20 Axes>"
            ]
          },
          "metadata": {
            "tags": []
          }
        }
      ]
    },
    {
      "cell_type": "markdown",
      "metadata": {
        "id": "-A_HQmOHIadV"
      },
      "source": [
        "## Определите архитектуру модели\n",
        "\n",
        "Мы определили MLP, который будем использовать для классификации набора данных.\n",
        "\n",
        "\n",
        "* 3-слойный MLP со скрытыми размерами 256 и 128. \n",
        "\n",
        "* Этот MLP принимает в качестве входных данных сглаженное изображение (784-значный длинный вектор) и выдает 10 баллов класса в качестве выходных данных.\n",
        "---\n",
        "Мы проверим влияние различных начальных Весов на эту 3-слойную нейронную сеть с помощью активации ReLU и оптимизатора Adam.  \n",
        "\n",
        "Полученные уроки применимы и к другим нейронным сетям, включая различные активации и оптимизаторы."
      ]
    },
    {
      "cell_type": "markdown",
      "metadata": {
        "id": "GVgjRR_QIadW"
      },
      "source": [
        "---\n",
        "\n",
        "### All Zeros or Ones\n",
        "Следуя принципам бритвы Оккама ([Occam's razor](https://en.wikipedia.org/wiki/Occam's_razor)), вы могли бы естестевенно подумать, что достаточно проиницализировать все веса нулем или единицей.\n",
        "\n",
        "При одинаковом весе все нейроны в каждом слое производят одинаковый результат.  Это затрудняет принятие решения о том, какие веса следует регулировать.\n",
        "\n",
        "Давайте сравним потери со всеми единицами и со всеми нулевыми весами, определив две модели с этими постоянными весами.\n",
        "\n",
        "Ниже мы используем Pytorch's [nn. init](https://pytorch.org/docs/stable/nn.html#torch-nn-init) инициализировать каждый линейный слой с постоянным весом. Библиотека init предоставляет ряд функций инициализации веса, которые дают вам возможность инициализировать веса каждого слоя в соответствии с типом слоя.\n",
        "\n",
        "В приведенном ниже примере мы рассмотрим каждый слой / модуль в нашей модели. Если это линейный слой (как и все три слоя для этого MLP), то мы инициализируем эти веса слоев как \" constant_weight` с смещением=0, используя следующий код:\n",
        "\n",
        ">```\n",
        "if isinstance(m, nn.Linear):\n",
        "    nn.init.constant_(m.weight, constant_weight)\n",
        "    nn.init.constant_(m.bias, 0)\n",
        "```\n",
        "\n",
        "The `constant_weight` is a value that you can pass in when you instantiate the model."
      ]
    },
    {
      "cell_type": "code",
      "metadata": {
        "id": "4JLlJa8FIadZ"
      },
      "source": [
        "import torch.nn as nn\n",
        "import torch.nn.functional as F\n",
        "\n",
        "# define the NN architecture\n",
        "class Net(nn.Module):\n",
        "    def __init__(self, hidden_1=256, hidden_2=128, constant_weight=None):\n",
        "        super(Net, self).__init__()\n",
        "        # linear layer (784 -> hidden_1)\n",
        "        self.fc1 = nn.Linear(28*28, hidden_1)\n",
        "        # linear layer (hidden_1 -> hidden_2)\n",
        "        self.fc2 = nn.Linear(hidden_1, hidden_2)\n",
        "        # linear layer (hidden_2 -> 10)\n",
        "        self.fc3 = nn.Linear(hidden_2, 10)\n",
        "        # dropout layer (p=0.2)\n",
        "        self.dropout = nn.Dropout(p=0.2)\n",
        "        \n",
        "        # initialize the weights to a specified, constant value\n",
        "        if(constant_weight is not None):\n",
        "            for m in self.modules():\n",
        "                if isinstance(m, nn.Linear):\n",
        "                    nn.init.constant_(m.weight, constant_weight)\n",
        "                    nn.init.constant_(m.bias, 0)\n",
        "    \n",
        "            \n",
        "    def forward(self, x):\n",
        "        # flatten image input\n",
        "        x = x.view(-1, 28 * 28)\n",
        "        # add hidden layer, with relu activation function\n",
        "        x = F.relu(self.fc1(x))\n",
        "        # add dropout layer\n",
        "        x = self.dropout(x)\n",
        "        # add hidden layer, with relu activation function\n",
        "        x = F.relu(self.fc2(x))\n",
        "        # add dropout layer\n",
        "        x = self.dropout(x)\n",
        "        # add output layer\n",
        "        x = self.fc3(x)\n",
        "        return x\n"
      ],
      "execution_count": null,
      "outputs": []
    },
    {
      "cell_type": "markdown",
      "metadata": {
        "id": "_IaEhz74Iadg"
      },
      "source": [
        "### Сравнение Поведения Модели\n",
        "\n",
        "Ниже мы используем \"помощников\".compare_init_weights\", чтобы сравнить потери обучения и проверки для двух моделей, которые мы определили выше, \"model_0\" и \"model_1\".  Эта функция принимает список моделей (каждая с различными начальными весами), имя создаваемого графика, а также загрузчики обучающих и проверочных наборов данных. Для каждой заданной модели он построит график потерь обучения для первых 100 партий и распечатает точность валидации после 2 эпох обучения. * Примечание: Если вы использовали небольшой размер пакета, вы можете увеличить количество эпох здесь, чтобы лучше сравнить, как ведут себя модели после просмотра нескольких сотен изображений.* \n",
        "\n",
        "\n",
        "Запустите ячейку ниже, чтобы увидеть разницу между весами со всеми нулями против всех единиц."
      ]
    },
    {
      "cell_type": "code",
      "metadata": {
        "id": "MDxbliCuIadh"
      },
      "source": [
        "# initialize two NN's with 0 and 1 constant weights\n",
        "model_0 = Net(constant_weight=0)\n",
        "model_1 = Net(constant_weight=1)"
      ],
      "execution_count": null,
      "outputs": []
    },
    {
      "cell_type": "code",
      "metadata": {
        "id": "xrmqVW1MKWHT"
      },
      "source": [
        "\n",
        "def _get_loss_acc(model, train_loader, valid_loader,  n_epochs = 10):\n",
        "    \"\"\"\n",
        "    Get losses and validation accuracy of example neural network\n",
        "    \"\"\"\n",
        "    n_epochs = 2\n",
        "    learning_rate = 0.001\n",
        "    \n",
        "    # Training loss\n",
        "    criterion = nn.CrossEntropyLoss()\n",
        "\n",
        "    # Optimizer\n",
        "    optimizer = torch.optim.Adam(model.parameters(), learning_rate)\n",
        "\n",
        "    # Measurements used for graphing loss\n",
        "    loss_batch = []\n",
        "\n",
        "    for epoch in range(1, n_epochs+1):\n",
        "        # initialize var to monitor training loss\n",
        "        train_loss = 0.0\n",
        "        ########################\n",
        "        # TODO train the model #\n",
        "        ########################\n",
        "        for data, target in train_loader:\n",
        "            # clear the gradients of all optimized variables\n",
        "            optimizer.zero_grad()\n",
        "            # forward pass: compute predicted outputs by passing inputs to the model\n",
        "            output = model(data)\n",
        "            # calculate the batch loss\n",
        "            loss = criterion(output, target)\n",
        "            # backward pass: compute gradient of the loss with respect to model parameters\n",
        "            loss.backward()\n",
        "            # perform a single optimization step (parameter update)\n",
        "            optimizer.step()\n",
        "            # record average batch loss\n",
        "            loss_batch.append(loss.item()) \n",
        "             \n",
        "    # after training for 2 epochs, check validation accuracy \n",
        "    correct = 0\n",
        "    total = 0\n",
        "    for data, target in valid_loader:\n",
        "        # forward pass: compute predicted outputs by passing inputs to the model\n",
        "        output = model(data)\n",
        "        # get the predicted class from the maximum class score\n",
        "        _, predicted = torch.max(output.data, 1)\n",
        "        # count up total number of correct labels\n",
        "        # for which the predicted and true labels are equal\n",
        "        total += target.size(0)\n",
        "        correct += (predicted == target).sum()\n",
        "      \n",
        "    # calculate the accuracy\n",
        "    # to convert `correct` from a Tensor into a scalar, use .item()\n",
        "    valid_acc = correct.item() / total\n",
        "\n",
        "    # return model stats\n",
        "    return loss_batch, valid_acc\n"
      ],
      "execution_count": null,
      "outputs": []
    },
    {
      "cell_type": "code",
      "metadata": {
        "id": "JKNMCYznIadn"
      },
      "source": [
        "\n",
        "def compare_init_weights(\n",
        "        model_list,\n",
        "        plot_title,\n",
        "        train_loader,\n",
        "        valid_loader,\n",
        "        plot_n_batches=100):\n",
        "    \"\"\"\n",
        "    Plot loss and print stats of weights using an example neural network\n",
        "    \"\"\"\n",
        "    colors = ['r', 'b', 'g', 'c', 'y', 'k']\n",
        "    label_accs = []\n",
        "    label_loss = []\n",
        "\n",
        "    assert len(model_list) <= len(colors), 'Too many initial weights to plot'\n",
        "\n",
        "    for i, (model, label) in enumerate(model_list):\n",
        "        loss, val_acc = _get_loss_acc(model, train_loader, valid_loader)\n",
        "\n",
        "        plt.plot(loss[:plot_n_batches], colors[i], label=label)\n",
        "        label_accs.append((label, val_acc))\n",
        "        label_loss.append((label, loss[-1]))\n",
        "\n",
        "    plt.title(plot_title)\n",
        "    plt.xlabel('Batches')\n",
        "    plt.ylabel('Loss')\n",
        "    plt.legend(bbox_to_anchor=(1.05, 1), loc=2, borderaxespad=0.)\n",
        "    plt.show()\n",
        "\n",
        "    print('After 2 Epochs:')\n",
        "    print('Validation Accuracy')\n",
        "    for label, val_acc in label_accs:\n",
        "        print('  {:7.3f}% -- {}'.format(val_acc*100, label))\n",
        "    print('Training Loss')\n",
        "    for label, loss in label_loss:\n",
        "        print('  {:7.3f}  -- {}'.format(loss, label))\n",
        "        "
      ],
      "execution_count": null,
      "outputs": []
    },
    {
      "cell_type": "code",
      "metadata": {
        "id": "C4H_ov6gKPC2",
        "colab": {
          "base_uri": "https://localhost:8080/",
          "height": 419
        },
        "outputId": "cddcb4ee-40de-47fa-b9e7-afbeb276190f"
      },
      "source": [
        "model_list = [(model_0, 'All Zeros'),\n",
        "              (model_1, 'All Ones')]\n",
        "\n",
        "compare_init_weights(model_list, \n",
        "                             'All Zeros vs All Ones', \n",
        "                             train_loader,\n",
        "                             valid_loader)"
      ],
      "execution_count": null,
      "outputs": [
        {
          "output_type": "display_data",
          "data": {
            "image/png": "[encoded data removed]",
            "text/plain": [
              "<Figure size 432x288 with 1 Axes>"
            ]
          },
          "metadata": {
            "tags": [],
            "needs_background": "light"
          }
        },
        {
          "output_type": "stream",
          "text": [
            "After 2 Epochs:\n",
            "Validation Accuracy\n",
            "    9.875% -- All Zeros\n",
            "   10.250% -- All Ones\n",
            "Training Loss\n",
            "    2.302  -- All Zeros\n",
            "  498.710  -- All Ones\n"
          ],
          "name": "stdout"
        }
      ]
    },
    {
      "cell_type": "markdown",
      "metadata": {
        "id": "jMZF8HhhIadp"
      },
      "source": [
        "Как вы можете видеть, точность близка к угадыванию как для нулей, так и для единиц, около 10%.\n",
        "\n",
        "Нейронной сети трудно определить, какие веса должны быть изменены, так как нейроны имеют одинаковый выход для каждого слоя.  Чтобы избежать нейронов с одинаковым выходом, давайте использовать уникальные веса.  Мы также можем случайным образом выбрать эти веса, чтобы избежать застревания в локальном минимуме для каждого запуска.\n",
        "\n",
        "Хорошим решением для получения этих случайных Весов является выборка из однородного распределения."
      ]
    },
    {
      "cell_type": "markdown",
      "metadata": {
        "collapsed": true,
        "id": "aa4-lO_dIadq"
      },
      "source": [
        "### равномерное распределение\n",
        "[равномерное распределение](https://en.wikipedia.org/wiki/Uniform_distribution) имеет равную вероятность выбора любого числа из набора чисел. Мы будем выбирать из непрерывного распределения, поэтому вероятность выбора одного и того же числа невелика. "
      ]
    },
    {
      "cell_type": "markdown",
      "metadata": {
        "id": "7B_gpGUMIadu"
      },
      "source": [
        "### Uniform Initialization, Baseline\n",
        "\n",
        "\n",
        "Давайте посмотрим, насколько хорошо нейронная сеть тренируется с использованием равномерной инициализации веса, где \"низкий=0.0\" и \"высокий=1.0\". Ниже я покажу вам другой способ (помимо кода класса Net) инициализации Весов сети. Чтобы определить веса вне определения модели, вы можете:\n",
        "1. Определите функцию, которая присваивает веса по типу сетевого слоя\n",
        "\n",
        "2. Применение этих весов в инициализацию модели, используя модель.apply (fn)`, который применяет функцию к каждому слою модели.\n",
        "\n",
        "На этот раз мы будем использовать вес.данные.uniform_ ' для инициализации Весов нашей модели напрямую."
      ]
    },
    {
      "cell_type": "code",
      "metadata": {
        "id": "2vgzzwcqIadv"
      },
      "source": [
        "# takes in a module and applies the specified weight initialization\n",
        "def weights_init_uniform(m):\n",
        "    classname = m.__class__.__name__\n",
        "    # for every Linear layer in a model..\n",
        "    if classname.find('Linear') != -1:\n",
        "      m.weight.data.uniform_(0.0, 1.0)\n",
        "      m.bias.data.fill_(0.0)"
      ],
      "execution_count": null,
      "outputs": []
    },
    {
      "cell_type": "code",
      "metadata": {
        "id": "0DvzLfUwIady",
        "colab": {
          "base_uri": "https://localhost:8080/",
          "height": 124
        },
        "outputId": "0eea5939-44b3-4223-9757-bd421d52c228"
      },
      "source": [
        "# create a new model with these weights\n",
        "model_uniform = Net()\n",
        "model_uniform.apply(weights_init_uniform)"
      ],
      "execution_count": null,
      "outputs": [
        {
          "output_type": "execute_result",
          "data": {
            "text/plain": [
              "Net(\n",
              "  (fc1): Linear(in_features=784, out_features=256, bias=True)\n",
              "  (fc2): Linear(in_features=256, out_features=128, bias=True)\n",
              "  (fc3): Linear(in_features=128, out_features=10, bias=True)\n",
              "  (dropout): Dropout(p=0.2, inplace=False)\n",
              ")"
            ]
          },
          "metadata": {
            "tags": []
          },
          "execution_count": 31
        }
      ]
    },
    {
      "cell_type": "code",
      "metadata": {
        "id": "cJ9tT12SIaeG",
        "colab": {
          "base_uri": "https://localhost:8080/",
          "height": 384
        },
        "outputId": "bda04d29-7101-4775-d761-ddf9c885545b"
      },
      "source": [
        "# evaluate behavior \n",
        "compare_init_weights([(model_uniform, 'Uniform Weights')], \n",
        "                             'Uniform Baseline', \n",
        "                             train_loader,\n",
        "                             valid_loader)"
      ],
      "execution_count": null,
      "outputs": [
        {
          "output_type": "display_data",
          "data": {
            "image/png": "[encoded data removed]",
            "text/plain": [
              "<Figure size 432x288 with 1 Axes>"
            ]
          },
          "metadata": {
            "tags": [],
            "needs_background": "light"
          }
        },
        {
          "output_type": "stream",
          "text": [
            "After 2 Epochs:\n",
            "Validation Accuracy\n",
            "   35.483% -- Uniform Weights\n",
            "Training Loss\n",
            "   11.628  -- Uniform Weights\n"
          ],
          "name": "stdout"
        }
      ]
    },
    {
      "cell_type": "markdown",
      "metadata": {
        "id": "qdMazkSiIaeX"
      },
      "source": [
        "---\n",
        "График потерь показывает, что нейронная сеть учится, чего она не делала со всеми нулями или со всеми единицами. Мы движемся в правильном направлении!\n",
        "\n",
        "## Общее правило установки весов\n",
        "Общее правило для установки весов в нейронной сети состоит в том, чтобы установить их близкими к нулю, не будучи слишком маленькими. \n",
        ">Хорошая практика заключается в том, чтобы начать свои веса в диапазоне $[- y, y]$, где $y=1/\\sqrt{n}$  \n",
        "($n$ - это число входов в данный нейрон).\n",
        "\n",
        "Давайте посмотрим, верно ли это; давайте создадим базовую линию для сравнения и центрируем наш равномерный диапазон над нулем, сдвинув его на 0,5.  Это даст нам диапазон [-0.5, 0.5]."
      ]
    },
    {
      "cell_type": "code",
      "metadata": {
        "id": "KxQzgLVrIaeZ",
        "colab": {
          "base_uri": "https://localhost:8080/",
          "height": 124
        },
        "outputId": "92562d93-6536-4a3b-cdc8-7b702a3a71d3"
      },
      "source": [
        "# takes in a module and applies the specified weight initialization\n",
        "def weights_init_uniform_center(m):\n",
        "    classname = m.__class__.__name__\n",
        "    # for every Linear layer in a model..\n",
        "    if classname.find('Linear') != -1:\n",
        "      m.weight.data.uniform_(-0.5, 0.5)\n",
        "      m.bias.data.fill_(0.0)\n",
        " \n",
        "# create a new model with these weights\n",
        "model_centered = Net()\n",
        "model_centered.apply(weights_init_uniform_center)"
      ],
      "execution_count": null,
      "outputs": [
        {
          "output_type": "execute_result",
          "data": {
            "text/plain": [
              "Net(\n",
              "  (fc1): Linear(in_features=784, out_features=256, bias=True)\n",
              "  (fc2): Linear(in_features=256, out_features=128, bias=True)\n",
              "  (fc3): Linear(in_features=128, out_features=10, bias=True)\n",
              "  (dropout): Dropout(p=0.2, inplace=False)\n",
              ")"
            ]
          },
          "metadata": {
            "tags": []
          },
          "execution_count": 33
        }
      ]
    },
    {
      "cell_type": "code",
      "metadata": {
        "id": "n88LC249Iaei",
        "colab": {
          "base_uri": "https://localhost:8080/",
          "height": 124
        },
        "outputId": "c47bb381-a912-434e-9c7b-5a62d5de0cf1"
      },
      "source": [
        "# takes in a module and applies the specified weight initialization\n",
        "def weights_init_uniform_rule(m):\n",
        "    classname = m.__class__.__name__\n",
        "    if classname.find('Linear') != -1:\n",
        "      n = m.in_features\n",
        "      y = 1.0/np.sqrt(n)\n",
        "      m.weight.data.uniform_(-y, y)\n",
        "      m.bias.data.fill_(0.0)\n",
        "\n",
        "# create a new model with these weights\n",
        "model_rule = Net()\n",
        "model_rule.apply(weights_init_uniform_rule)"
      ],
      "execution_count": null,
      "outputs": [
        {
          "output_type": "execute_result",
          "data": {
            "text/plain": [
              "Net(\n",
              "  (fc1): Linear(in_features=784, out_features=256, bias=True)\n",
              "  (fc2): Linear(in_features=256, out_features=128, bias=True)\n",
              "  (fc3): Linear(in_features=128, out_features=10, bias=True)\n",
              "  (dropout): Dropout(p=0.2, inplace=False)\n",
              ")"
            ]
          },
          "metadata": {
            "tags": []
          },
          "execution_count": 35
        }
      ]
    },
    {
      "cell_type": "code",
      "metadata": {
        "id": "Dxc-99kCIaem",
        "colab": {
          "base_uri": "https://localhost:8080/",
          "height": 419
        },
        "outputId": "bafc2b72-ca60-48c8-8a59-51099f89f123"
      },
      "source": [
        "model_list = [(model_centered, 'Centered Weights [-0.5, 0.5)'), \n",
        "              (model_rule, 'General Rule [-y, y)')]\n",
        "\n",
        "compare_init_weights(model_list, \n",
        "                             '[-0.5, 0.5) vs [-y, y)', \n",
        "                             train_loader,\n",
        "                             valid_loader)"
      ],
      "execution_count": null,
      "outputs": [
        {
          "output_type": "display_data",
          "data": {
            "image/png": "[encoded data removed]",
            "text/plain": [
              "<Figure size 432x288 with 1 Axes>"
            ]
          },
          "metadata": {
            "tags": [],
            "needs_background": "light"
          }
        },
        {
          "output_type": "stream",
          "text": [
            "After 2 Epochs:\n",
            "Validation Accuracy\n",
            "   76.017% -- Centered Weights [-0.5, 0.5)\n",
            "   85.858% -- General Rule [-y, y)\n",
            "Training Loss\n",
            "    0.587  -- Centered Weights [-0.5, 0.5)\n",
            "    0.448  -- General Rule [-y, y)\n"
          ],
          "name": "stdout"
        }
      ]
    },
    {
      "cell_type": "markdown",
      "metadata": {
        "id": "LZZ_3YtuIaep"
      },
      "source": [
        "Такое поведение действительно многообещающе! Мало того, что потеря уменьшается, но, кажется, это происходит очень быстро для наших равномерных Весов, которые следуют общему правилу; всего через две эпохи мы получаем довольно высокую точность проверки, и это должно дать вам некоторое представление о том, почему начало с правильных начальных Весов действительно может помочь вашему тренировочному процессу!\n",
        "\n",
        "---\n",
        "\n",
        "Поскольку равномерное распределение имеет одинаковый шанс выбрать * любое значение* в диапазоне, что, если мы используем распределение, которое имеет более высокий шанс выбрать числа ближе к 0?  Давайте посмотрим на нормальное распределение.\n",
        "\n",
        "### нормальное распределение\n",
        "В отличие от равномерного распределения, [нормальное распределение](https://en.wikipedia.org/wiki/Normal_distribution) имеет более высокую вероятность выбора числа, близкого к среднему значению."
      ]
    },
    {
      "cell_type": "markdown",
      "metadata": {
        "id": "f6KlG2T2Iaer"
      },
      "source": [
        "Добавьте нормальное распределение тут:\n",
        "как стандартное отклонение выберите $y=1/\\sqrt{n}$"
      ]
    },
    {
      "cell_type": "code",
      "metadata": {
        "id": "yWtr-z3WIaes"
      },
      "source": [
        "## complete this function\n",
        "def weights_init_normal(m):\n",
        "    '''Takes in a module and initializes all linear layers with weight\n",
        "       values taken from a normal distribution.'''\n",
        "    \n",
        "    classname = m.__class__.__name__\n",
        "    if classname.find('Linear') != -1:\n",
        "      n = m.in_features\n",
        "      y = 1.0/np.sqrt(n)\n",
        "      m.weight.data.normal_(0, y)\n",
        "      m.bias.data.fill_(0.0)\n",
        "    "
      ],
      "execution_count": null,
      "outputs": []
    },
    {
      "cell_type": "code",
      "metadata": {
        "id": "iriwx51SIaev",
        "colab": {
          "base_uri": "https://localhost:8080/",
          "height": 124
        },
        "outputId": "00e19218-6ed8-4930-86a3-7352afcb4e3a"
      },
      "source": [
        "## -- no need to change code below this line -- ##\n",
        "\n",
        "# create a new model with the rule-based, uniform weights\n",
        "model_uniform_rule = Net()\n",
        "model_uniform_rule.apply(weights_init_uniform_rule)\n",
        "\n",
        "# create a new model with the rule-based, NORMAL weights\n",
        "model_normal_rule = Net()\n",
        "model_normal_rule.apply(weights_init_normal)"
      ],
      "execution_count": null,
      "outputs": [
        {
          "output_type": "execute_result",
          "data": {
            "text/plain": [
              "Net(\n",
              "  (fc1): Linear(in_features=784, out_features=256, bias=True)\n",
              "  (fc2): Linear(in_features=256, out_features=128, bias=True)\n",
              "  (fc3): Linear(in_features=128, out_features=10, bias=True)\n",
              "  (dropout): Dropout(p=0.2, inplace=False)\n",
              ")"
            ]
          },
          "metadata": {
            "tags": []
          },
          "execution_count": 38
        }
      ]
    },
    {
      "cell_type": "code",
      "metadata": {
        "id": "u52PY05QIaez",
        "colab": {
          "base_uri": "https://localhost:8080/",
          "height": 419
        },
        "outputId": "73fdbb92-4ef8-4807-e643-481448d733e2"
      },
      "source": [
        "model_list = [(model_uniform_rule, 'Uniform Rule [-y, y)'), \n",
        "              (model_normal_rule, 'Normal Distribution')]\n",
        "\n",
        "compare_init_weights(model_list, \n",
        "                             'Uniform vs Normal', \n",
        "                             train_loader,\n",
        "                             valid_loader)"
      ],
      "execution_count": null,
      "outputs": [
        {
          "output_type": "display_data",
          "data": {
            "image/png": "[encoded data removed]",
            "text/plain": [
              "<Figure size 432x288 with 1 Axes>"
            ]
          },
          "metadata": {
            "tags": [],
            "needs_background": "light"
          }
        },
        {
          "output_type": "stream",
          "text": [
            "After 2 Epochs:\n",
            "Validation Accuracy\n",
            "   84.667% -- Uniform Rule [-y, y)\n",
            "   84.708% -- Normal Distribution\n",
            "Training Loss\n",
            "    0.321  -- Uniform Rule [-y, y)\n",
            "    0.397  -- Normal Distribution\n"
          ],
          "name": "stdout"
        }
      ]
    },
    {
      "cell_type": "markdown",
      "metadata": {
        "id": "AhmqCw3ZIae2"
      },
      "source": [
        "Нормальное распределение дает нам довольно похожее поведение по сравнению с равномерным распределением, в данном случае. Вероятно, это связано с тем, что наша сеть очень мала; более крупная нейронная сеть будет выбирать больше весовых значений из каждого из этих распределений, увеличивая эффект обоих стилей инициализации. В общем случае нормальное распределение приведет к повышению производительности модели."
      ]
    },
    {
      "cell_type": "code",
      "metadata": {
        "id": "sdz-0zDXM0dR",
        "colab": {
          "base_uri": "https://localhost:8080/",
          "height": 1000
        },
        "outputId": "2c47ddf3-b3c6-47ef-cfd5-70f0e4372873"
      },
      "source": [
        "model_uniform_rule.state_dict()"
      ],
      "execution_count": null,
      "outputs": [
        {
          "output_type": "execute_result",
          "data": {
            "text/plain": [
              "OrderedDict([('fc1.weight',\n",
              "              tensor([[ 0.0045,  0.0276,  0.0071,  ..., -0.0103,  0.0267,  0.0218],\n",
              "                      [-0.0161, -0.0479,  0.0071,  ...,  0.0172,  0.0027, -0.0295],\n",
              "                      [ 0.0334,  0.0690,  0.0415,  ..., -0.0963, -0.1603, -0.0743],\n",
              "                      ...,\n",
              "                      [-0.0023,  0.0258, -0.0668,  ...,  0.0861,  0.0883,  0.0553],\n",
              "                      [-0.0448,  0.0533,  0.0743,  ...,  0.0865,  0.0261, -0.0025],\n",
              "                      [ 0.0531,  0.0392, -0.0762,  ...,  0.0195, -0.0009, -0.0492]])),\n",
              "             ('fc1.bias',\n",
              "              tensor([-0.0244,  0.1905,  0.0314, -0.0336, -0.0775,  0.1254,  0.1116,  0.1791,\n",
              "                       0.0598,  0.0545,  0.1141,  0.1188, -0.0087, -0.0308,  0.1159,  0.1100,\n",
              "                      -0.1148, -0.0758,  0.2108, -0.0973, -0.0015,  0.0559, -0.0175,  0.2097,\n",
              "                      -0.0015,  0.1083,  0.0496,  0.1389,  0.1210, -0.0146,  0.1249,  0.1556,\n",
              "                      -0.0071, -0.0044, -0.0406, -0.0047, -0.0471,  0.1326,  0.2078,  0.1297,\n",
              "                       0.1389,  0.1023, -0.1856, -0.0579, -0.0370, -0.1132,  0.2170,  0.0650,\n",
              "                       0.1676,  0.0750,  0.0014,  0.1389,  0.0688,  0.0813, -0.0067, -0.0244,\n",
              "                       0.0414, -0.0835,  0.1791,  0.1793,  0.0658, -0.0065,  0.0349,  0.2525,\n",
              "                       0.1286,  0.1201,  0.0668,  0.0639, -0.0129,  0.0057,  0.0879, -0.1359,\n",
              "                       0.1617, -0.1127,  0.0867,  0.1806, -0.0211,  0.2063, -0.1011,  0.0220,\n",
              "                       0.1086, -0.0321,  0.1125,  0.0502,  0.0687, -0.0421,  0.1780,  0.1554,\n",
              "                       0.1214,  0.0769,  0.1184,  0.0425,  0.0560, -0.0071,  0.1803,  0.1689,\n",
              "                      -0.0411, -0.0131, -0.0074,  0.0335, -0.0889,  0.1286, -0.0053,  0.0731,\n",
              "                      -0.0364,  0.1460,  0.0545,  0.0504, -0.0535,  0.1128,  0.0263,  0.0712,\n",
              "                       0.0232, -0.0069,  0.1149,  0.0537,  0.0723,  0.0471,  0.0702, -0.0372,\n",
              "                      -0.0235, -0.0842, -0.0082,  0.0276,  0.0984, -0.1293,  0.0095, -0.0789,\n",
              "                      -0.0113, -0.0059,  0.0823,  0.1145, -0.0084, -0.0030,  0.1298,  0.0414,\n",
              "                      -0.0079,  0.0335, -0.0215, -0.0435, -0.0060,  0.1365,  0.0765, -0.0674,\n",
              "                       0.0431,  0.2397,  0.1451,  0.0476,  0.1747, -0.0104, -0.0875, -0.0343,\n",
              "                       0.0544,  0.1357,  0.1111,  0.0105,  0.0422,  0.1164, -0.0094,  0.0116,\n",
              "                      -0.0425,  0.1830,  0.1531, -0.0060, -0.0082,  0.0626,  0.2346, -0.0662,\n",
              "                       0.0484, -0.0065, -0.0457, -0.0352,  0.2329,  0.2235,  0.0515,  0.0801,\n",
              "                      -0.0651, -0.0825, -0.0985,  0.2144, -0.1034,  0.1021,  0.2114,  0.2283,\n",
              "                       0.1409, -0.0087,  0.0720,  0.2008,  0.0054,  0.0769,  0.0851,  0.0028,\n",
              "                       0.0945,  0.1471, -0.1658,  0.1092,  0.0955,  0.0253, -0.0024, -0.0133,\n",
              "                      -0.0293,  0.0732,  0.0053,  0.1120,  0.1055,  0.0863,  0.0205,  0.0020,\n",
              "                      -0.0067,  0.0491,  0.0134,  0.1017, -0.0056, -0.0056, -0.0093, -0.0260,\n",
              "                       0.0216, -0.0099,  0.1155,  0.1074, -0.0060,  0.1971, -0.0758, -0.0049,\n",
              "                       0.0175,  0.0317, -0.1778,  0.1012, -0.0161, -0.0192,  0.0741, -0.0336,\n",
              "                       0.0796,  0.0982,  0.0554,  0.1272, -0.0266,  0.0510, -0.0107, -0.0350,\n",
              "                       0.1054,  0.0527,  0.0525,  0.0528,  0.1203, -0.0835,  0.0527,  0.0538,\n",
              "                      -0.0736,  0.0761,  0.2363,  0.1088, -0.0730, -0.0691,  0.1035,  0.1114])),\n",
              "             ('fc2.weight',\n",
              "              tensor([[ 0.0395,  0.0963, -0.0196,  ...,  0.0148, -0.0724,  0.1037],\n",
              "                      [-0.0372, -0.0073, -0.0714,  ...,  0.0261,  0.0487, -0.0654],\n",
              "                      [-0.0039, -0.0798, -0.0539,  ..., -0.0842, -0.0308, -0.0556],\n",
              "                      ...,\n",
              "                      [ 0.0143,  0.0671, -0.0825,  ...,  0.0337, -0.1058, -0.0125],\n",
              "                      [ 0.0416,  0.0186,  0.0319,  ..., -0.0626,  0.0483, -0.1078],\n",
              "                      [ 0.0745,  0.0004, -0.0342,  ...,  0.0234,  0.0101, -0.0420]])),\n",
              "             ('fc2.bias',\n",
              "              tensor([-0.0211,  0.0028, -0.0060,  0.1074,  0.0629,  0.0991,  0.0206,  0.1500,\n",
              "                       0.0747, -0.0172, -0.0133, -0.0778,  0.0344, -0.0297,  0.0674,  0.1893,\n",
              "                       0.1230,  0.0878,  0.1766,  0.0851,  0.1280, -0.1261,  0.1067,  0.0209,\n",
              "                       0.1581,  0.0361, -0.0110,  0.0968, -0.1175,  0.0760,  0.1097, -0.0305,\n",
              "                       0.1928, -0.0241,  0.0548,  0.0890,  0.0824,  0.1429,  0.0976, -0.0021,\n",
              "                       0.0115, -0.1139,  0.0847,  0.0745,  0.0628,  0.1225, -0.0851,  0.0648,\n",
              "                      -0.0351, -0.0220,  0.1537,  0.0648, -0.0656,  0.1482,  0.0605,  0.0974,\n",
              "                      -0.0295,  0.1300, -0.0146,  0.0246, -0.0832,  0.0086,  0.1021,  0.1118,\n",
              "                       0.0892,  0.0573, -0.0394, -0.0888, -0.0374, -0.0896,  0.1300,  0.0727,\n",
              "                       0.1221, -0.0960,  0.0306, -0.0541,  0.0900, -0.0337,  0.0850, -0.0248,\n",
              "                       0.1000,  0.0765,  0.0111, -0.0051,  0.0649,  0.0599,  0.0960,  0.0205,\n",
              "                       0.0768,  0.0565, -0.0059, -0.0490,  0.1376, -0.0274,  0.0648,  0.0746,\n",
              "                      -0.0248,  0.0579,  0.1201,  0.0113,  0.1254, -0.0396,  0.1532,  0.1497,\n",
              "                       0.1464,  0.1571,  0.1617, -0.0039,  0.1575,  0.0747,  0.1206,  0.0320,\n",
              "                       0.0946, -0.0060,  0.1019,  0.0038,  0.1445, -0.0109,  0.1120,  0.1291,\n",
              "                      -0.0159, -0.0489,  0.0717,  0.1946,  0.0119,  0.0835, -0.0290, -0.1023])),\n",
              "             ('fc3.weight',\n",
              "              tensor([[ 0.0002, -0.1647, -0.0003,  ..., -0.0896,  0.0599, -0.0410],\n",
              "                      [-0.1162, -0.1369, -0.1086,  ...,  0.1179,  0.0142, -0.1516],\n",
              "                      [-0.1206, -0.0805, -0.0357,  ..., -0.1105, -0.0757,  0.0592],\n",
              "                      ...,\n",
              "                      [ 0.0970, -0.0939, -0.0026,  ...,  0.0699,  0.0070, -0.0184],\n",
              "                      [ 0.1197, -0.0257, -0.0285,  ..., -0.0525,  0.0654,  0.0485],\n",
              "                      [ 0.0885,  0.0796, -0.0675,  ..., -0.0830, -0.0852,  0.0525]])),\n",
              "             ('fc3.bias',\n",
              "              tensor([-0.0113, -0.0735,  0.0133,  0.0796, -0.0990,  0.1250,  0.0720,  0.0280,\n",
              "                      -0.0750, -0.1345]))])"
            ]
          },
          "metadata": {
            "tags": []
          },
          "execution_count": 41
        }
      ]
    }
  ]
}